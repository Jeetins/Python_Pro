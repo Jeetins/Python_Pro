{
 "cells": [
  {
   "cell_type": "markdown",
   "id": "31be697c-00ec-4900-930c-bb9c4a22856a",
   "metadata": {},
   "source": [
    "# Print Statement"
   ]
  },
  {
   "cell_type": "code",
   "execution_count": 8,
   "id": "2ee695a2-a7e3-4ea8-a159-b3635f5f617d",
   "metadata": {},
   "outputs": [
    {
     "data": {
      "text/plain": [
       "20"
      ]
     },
     "execution_count": 8,
     "metadata": {},
     "output_type": "execute_result"
    }
   ],
   "source": [
    "a=10\n",
    "b=20\n",
    "a\n",
    "b # Here the Last variable will only print"
   ]
  },
  {
   "cell_type": "code",
   "execution_count": 9,
   "id": "9c722e00-b3fd-4792-8bfa-9641d9edfe1a",
   "metadata": {},
   "outputs": [
    {
     "name": "stdout",
     "output_type": "stream",
     "text": [
      "10\n",
      "20\n"
     ]
    }
   ],
   "source": [
    "print(a)\n",
    "print(b)"
   ]
  },
  {
   "cell_type": "code",
   "execution_count": 10,
   "id": "c569c93b-7d31-44a1-95ff-5b5924a54404",
   "metadata": {},
   "outputs": [
    {
     "name": "stdout",
     "output_type": "stream",
     "text": [
      "10\n"
     ]
    }
   ],
   "source": [
    "print(10)"
   ]
  },
  {
   "cell_type": "code",
   "execution_count": 11,
   "id": "d4f79e70-8156-439b-b37d-023132054c24",
   "metadata": {},
   "outputs": [
    {
     "name": "stdout",
     "output_type": "stream",
     "text": [
      "10 20\n"
     ]
    }
   ],
   "source": [
    "print(10,20)"
   ]
  },
  {
   "cell_type": "code",
   "execution_count": 13,
   "id": "2355e5fb-f9fe-447b-a501-02ac9fe1cfc4",
   "metadata": {},
   "outputs": [
    {
     "name": "stdout",
     "output_type": "stream",
     "text": [
      "Jeetin\n"
     ]
    }
   ],
   "source": [
    "print(\"Jeetin\")"
   ]
  },
  {
   "cell_type": "markdown",
   "id": "95511330-c469-4f5a-a6b7-67d6effdd669",
   "metadata": {},
   "source": [
    "# Print String along with Result"
   ]
  },
  {
   "cell_type": "code",
   "execution_count": 14,
   "id": "a5c61873-f50b-4c5b-aca0-4ac3ec501e73",
   "metadata": {},
   "outputs": [
    {
     "name": "stdout",
     "output_type": "stream",
     "text": [
      "The additiona of 10 and 20 is= 30\n"
     ]
    }
   ],
   "source": [
    "print ('The additiona of',a,'and',b,'is=',a+b)"
   ]
  },
  {
   "cell_type": "code",
   "execution_count": 15,
   "id": "4c77586b-2c5f-4beb-a8bd-51376181a59c",
   "metadata": {},
   "outputs": [
    {
     "name": "stdout",
     "output_type": "stream",
     "text": [
      "The addition of 10 and 20 is = 30\n"
     ]
    }
   ],
   "source": [
    "add=a+b\n",
    "print('The addition of {} and {} is = {}'.format(a,b,add))"
   ]
  },
  {
   "cell_type": "markdown",
   "id": "a901765b-072d-4e3c-9f61-04a3951847d9",
   "metadata": {},
   "source": [
    "<u>First descide how the print statement should be like:</u>\n",
    "\n",
    "- The addition of 20 and 30 is = 50\n",
    "\n",
    "then replace the variable position with { }\n",
    "\n",
    "then appply .format(val1,val2,....val-n)"
   ]
  },
  {
   "cell_type": "code",
   "execution_count": 36,
   "id": "33c46926-38e7-42f7-933b-c0adc02324a4",
   "metadata": {},
   "outputs": [
    {
     "name": "stdout",
     "output_type": "stream",
     "text": [
      "152.66666666666666\n",
      "152.67\n"
     ]
    }
   ],
   "source": [
    "num1=100 \n",
    "num2=25 \n",
    "num3=333\n",
    "avg=(num1+num2+num3)/3 # or we can use avg=round(num1+num2+num3)/3,2)\n",
    "avg1=round((num1+num2+num3)/3,2)\n",
    "print(avg)\n",
    "print(avg1)\n"
   ]
  },
  {
   "cell_type": "markdown",
   "id": "f0bafffa-8c5b-4f07-8382-0609365638f3",
   "metadata": {},
   "source": [
    "- round(avg,2) # round of till 2 digit after decimal"
   ]
  },
  {
   "cell_type": "markdown",
   "id": "22cf6314-97aa-443e-98bd-215ff66a6ad8",
   "metadata": {},
   "source": [
    "# More short format meythod(f string method)\n",
    "variable should be in curly braces {}\n",
    "\n",
    "and write everything inside quots ''\n",
    "\n",
    "at starting simpaly add f"
   ]
  },
  {
   "cell_type": "code",
   "execution_count": 24,
   "id": "898e205a-fb3c-4083-8143-ce92cb78340b",
   "metadata": {},
   "outputs": [
    {
     "name": "stdout",
     "output_type": "stream",
     "text": [
      "The addition of 10 and 20 is= 30\n"
     ]
    }
   ],
   "source": [
    "add=a+b\n",
    "print(f'The addition of {a} and {b} is= {add}') # Here we don't need to add Format function"
   ]
  },
  {
   "cell_type": "markdown",
   "id": "f371509b-37c2-406d-90a5-2d5396d4139b",
   "metadata": {},
   "source": [
    "# All Print Method"
   ]
  },
  {
   "cell_type": "code",
   "execution_count": 27,
   "id": "5c2ff507-6987-40e6-881b-25bb59afdab9",
   "metadata": {},
   "outputs": [
    {
     "name": "stdout",
     "output_type": "stream",
     "text": [
      "The addition of 10 and 20 is= 30\n",
      "The addition of 10 and 20 is= 30\n",
      "The addition of 10 and 20 is= 30\n"
     ]
    }
   ],
   "source": [
    "a=10 \n",
    "b=20\n",
    "add = a+b\n",
    "print('The addition of',a,'and',b,'is=',add)\n",
    "print('The addition of {} and {} is= {}'.format(a,b,add)) \n",
    "print(f'The addition of {a} and {b} is= {add}')"
   ]
  },
  {
   "cell_type": "markdown",
   "id": "7421f23f-0768-49c6-8f83-b1dcb89f8363",
   "metadata": {},
   "source": [
    "# End Statement"
   ]
  },
  {
   "cell_type": "markdown",
   "id": "5701df7d-03ce-440e-b7d2-0d7cc58985fa",
   "metadata": {},
   "source": [
    "- Here we will use end statement that joint line from end of one string to starting of other string"
   ]
  },
  {
   "cell_type": "code",
   "execution_count": 31,
   "id": "b7c4f7a9-7469-4124-b97a-5a11cd2ee457",
   "metadata": {},
   "outputs": [
    {
     "name": "stdout",
     "output_type": "stream",
     "text": [
      "hello\n",
      "good moorning\n"
     ]
    }
   ],
   "source": [
    "print('hello') # 1st statement\n",
    "print('good moorning') # 2nd statement)\n"
   ]
  },
  {
   "cell_type": "code",
   "execution_count": 33,
   "id": "bba2cc8d-95b6-4b1a-9576-eceb2b39a4e8",
   "metadata": {},
   "outputs": [
    {
     "name": "stdout",
     "output_type": "stream",
     "text": [
      "Hello World, Good Day\n"
     ]
    }
   ],
   "source": [
    "# Here I want to print \" Hello World, Good Day\" without a line break\n",
    "\n",
    "print('Hello', end=' ')\n",
    "print('World, Good Day')"
   ]
  },
  {
   "cell_type": "code",
   "execution_count": 38,
   "id": "dcbe0fa1-5ee3-4673-8003-6bbd6761ed36",
   "metadata": {},
   "outputs": [
    {
     "name": "stdout",
     "output_type": "stream",
     "text": [
      "152.66666666666666 or 152.67\n"
     ]
    }
   ],
   "source": [
    "print(avg,end=' or ')\n",
    "print(avg1)"
   ]
  },
  {
   "cell_type": "markdown",
   "id": "fc9b0171-dd3f-4e9e-bf1c-6ec3a1c8c0eb",
   "metadata": {},
   "source": [
    "# Seprator"
   ]
  },
  {
   "cell_type": "markdown",
   "id": "304cc0c1-fd5a-4085-92c3-ae0b9a8b4d26",
   "metadata": {},
   "source": [
    "- Here one print statement only we use\n",
    "- Insisde one print statement we have multipal values\n",
    "- We want to seperate these multipal values with anything"
   ]
  },
  {
   "cell_type": "code",
   "execution_count": 43,
   "id": "1190132a-f7da-4d6b-901a-704b27ea2ce6",
   "metadata": {},
   "outputs": [
    {
     "name": "stdout",
     "output_type": "stream",
     "text": [
      "hello hi how are you\n",
      "hello--->hi--->how are you\n",
      "hello & hi & how are you\n",
      "hello @ hi @ how are you\n"
     ]
    }
   ],
   "source": [
    "print('hello','hi','how are you',sep=' ')\n",
    "print('hello','hi','how are you',sep='--->')\n",
    "print('hello','hi','how are you',sep=' & ')\n",
    "print('hello','hi','how are you',sep=' @ ')"
   ]
  },
  {
   "cell_type": "code",
   "execution_count": 46,
   "id": "b4e5a373-a7c1-4b4b-853b-1e5870f32f49",
   "metadata": {},
   "outputs": [
    {
     "name": "stdout",
     "output_type": "stream",
     "text": [
      "3 .\n"
     ]
    }
   ],
   "source": [
    "print(3,'.') # Here . is far from 3 so here we will use sep method"
   ]
  },
  {
   "cell_type": "code",
   "execution_count": 47,
   "id": "d2234cef-a54a-4a39-8ee7-51c1fdbb7e11",
   "metadata": {},
   "outputs": [
    {
     "name": "stdout",
     "output_type": "stream",
     "text": [
      "3.\n"
     ]
    }
   ],
   "source": [
    "print(3,'.',sep='') # see now space setteld(also use to remove space B/W words)"
   ]
  },
  {
   "cell_type": "code",
   "execution_count": 49,
   "id": "a99ded07-9ae1-4094-ab2c-36176b054568",
   "metadata": {},
   "outputs": [
    {
     "name": "stdout",
     "output_type": "stream",
     "text": [
      "1 2 3.\n"
     ]
    }
   ],
   "source": [
    "print(1,2,end=' ') \n",
    "print(3,'.',sep='') # will print 1 2 3."
   ]
  },
  {
   "cell_type": "code",
   "execution_count": null,
   "id": "484d0fcf-e243-4e50-9295-a381c022a200",
   "metadata": {},
   "outputs": [],
   "source": []
  }
 ],
 "metadata": {
  "kernelspec": {
   "display_name": "Python 3 (ipykernel)",
   "language": "python",
   "name": "python3"
  },
  "language_info": {
   "codemirror_mode": {
    "name": "ipython",
    "version": 3
   },
   "file_extension": ".py",
   "mimetype": "text/x-python",
   "name": "python",
   "nbconvert_exporter": "python",
   "pygments_lexer": "ipython3",
   "version": "3.13.5"
  }
 },
 "nbformat": 4,
 "nbformat_minor": 5
}
