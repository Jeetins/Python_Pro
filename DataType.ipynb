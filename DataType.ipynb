{
 "cells": [
  {
   "cell_type": "markdown",
   "id": "4904bb46-3a47-4051-9c48-0fc5da6d6d13",
   "metadata": {},
   "source": [
    "# Data Types"
   ]
  },
  {
   "cell_type": "code",
   "execution_count": 29,
   "id": "7a90f7d5-1438-4d45-9851-f07cc8718f2d",
   "metadata": {},
   "outputs": [
    {
     "name": "stdout",
     "output_type": "stream",
     "text": [
      "<class 'int'>\n",
      "<class 'float'>\n",
      "<class 'complex'>\n",
      "<class 'str'>\n",
      "<class 'list'>\n",
      "<class 'dict'>\n",
      "<class 'set'>\n",
      "<class 'tuple'>\n",
      "<class 'bool'>\n",
      "<class 'bool'>\n"
     ]
    }
   ],
   "source": [
    "print(type(10))                  # Int\n",
    "print(type(3.14))                # Float\n",
    "print(type(1 + 3j))              # Complex\n",
    "print(type('Jeetin'))            # String\n",
    "print(type([1, 2, 3]))           # List\n",
    "print(type({'name':'Jeetin'})) # Dictionary\n",
    "print(type({9.8, 3.14, 2.7}))    # Set\n",
    "print(type((9.8, 3.14, 2.7)))    # Tuple\n",
    "print(type(3 == 3))              # Bool\n",
    "print(type(3 >= 3))              # Bool"
   ]
  },
  {
   "cell_type": "markdown",
   "id": "a080871b-61b2-431c-b0c2-b96926951c3e",
   "metadata": {},
   "source": [
    "# Integers"
   ]
  },
  {
   "cell_type": "code",
   "execution_count": 23,
   "id": "192a79f1-22d8-4ed6-bd35-282163667b03",
   "metadata": {},
   "outputs": [
    {
     "name": "stdout",
     "output_type": "stream",
     "text": [
      "Addition:  3\n",
      "Subtraction:  1\n",
      "Multiplication:  6\n",
      "Division:  2.0\n",
      "Division:  3.0\n",
      "Division:  3.5\n",
      "Division without the remainder:  3\n",
      "Modulus:  1\n",
      "Division without the remainder:  2\n",
      "Exponential:  9\n"
     ]
    }
   ],
   "source": [
    "print('Addition: ', 1 + 2)\n",
    "print('Subtraction: ', 2 - 1)\n",
    "print('Multiplication: ', 2 * 3)\n",
    "print ('Division: ', 4 / 2)                         # Division in python gives floating number\n",
    "print('Division: ', 6 / 2)\n",
    "print('Division: ', 7 / 2)\n",
    "print('Division without the remainder: ', 7 // 2)   # gives without the floating number or without the remaining\n",
    "print('Modulus: ', 3 % 2)                           # Gives the remainder\n",
    "print ('Division without the remainder: ', 7 // 3)\n",
    "print('Exponential: ', 3 ** 2)                     # it means 3 * 3\n"
   ]
  },
  {
   "cell_type": "markdown",
   "id": "861f4509-5fdf-4e8c-b1c5-4981aac41519",
   "metadata": {},
   "source": [
    "# Floating numbers"
   ]
  },
  {
   "cell_type": "code",
   "execution_count": 25,
   "id": "1f3b3563-85ee-452c-8766-86ab7e04aaee",
   "metadata": {},
   "outputs": [
    {
     "name": "stdout",
     "output_type": "stream",
     "text": [
      "Floating Number,PI 3.14\n",
      "Floating Number, gravity 9.81\n"
     ]
    }
   ],
   "source": [
    "print('Floating Number,PI', 3.14)\n",
    "print('Floating Number, gravity', 9.81)"
   ]
  },
  {
   "cell_type": "markdown",
   "id": "b7b1264f-0d75-4d63-b17c-873ca5b3391b",
   "metadata": {},
   "source": [
    "# Complex numbers"
   ]
  },
  {
   "cell_type": "code",
   "execution_count": 27,
   "id": "4818ec0b-3e39-4d18-8685-e37fc1e28a26",
   "metadata": {},
   "outputs": [
    {
     "name": "stdout",
     "output_type": "stream",
     "text": [
      "Complex number:  (1+1j)\n",
      "Multiplying complex number:  (2+0j)\n"
     ]
    }
   ],
   "source": [
    "print('Complex number: ', 1 + 1j)\n",
    "print('Multiplying complex number: ',(1 + 1j) * (1-1j))"
   ]
  },
  {
   "cell_type": "markdown",
   "id": "f3716a2f-ee19-4085-a004-3ce88ab1df49",
   "metadata": {},
   "source": [
    "### Creating a Complex Number"
   ]
  },
  {
   "cell_type": "markdown",
   "id": "7fb0e459-ebf5-4194-a6f6-5d69ea26af2c",
   "metadata": {},
   "source": [
    "A complex number is created by appending the letter j (or J) to the imaginary part. The format is:\n",
    "\n",
    " Complex numbers are written with j or J for the imaginary part.\n",
    " \n",
    " You can perform basic arithmetic operations on complex numbers.\n",
    " \n",
    " You can access the real and imaginary parts using .real and .imag.\n",
    " \n",
    " The cmath module offers additional functions for complex numbers."
   ]
  },
  {
   "cell_type": "code",
   "execution_count": 2,
   "id": "d4788625-6259-40f0-bfe4-2f052f4e8c2a",
   "metadata": {},
   "outputs": [],
   "source": [
    "Z = 3 + 4j"
   ]
  },
  {
   "cell_type": "code",
   "execution_count": 4,
   "id": "3c3e299e-1404-454d-8251-c1723173ad93",
   "metadata": {},
   "outputs": [
    {
     "data": {
      "text/plain": [
       "3.0"
      ]
     },
     "execution_count": 4,
     "metadata": {},
     "output_type": "execute_result"
    }
   ],
   "source": [
    "Z.real"
   ]
  },
  {
   "cell_type": "code",
   "execution_count": 5,
   "id": "67731190-6548-415b-9072-258c74479559",
   "metadata": {},
   "outputs": [
    {
     "data": {
      "text/plain": [
       "4.0"
      ]
     },
     "execution_count": 5,
     "metadata": {},
     "output_type": "execute_result"
    }
   ],
   "source": [
    "Z.imag"
   ]
  },
  {
   "cell_type": "code",
   "execution_count": 6,
   "id": "e6fcf33f-8ac5-46cc-9eaf-0cf2b4a46a88",
   "metadata": {},
   "outputs": [],
   "source": [
    "X = 1+2j"
   ]
  },
  {
   "cell_type": "code",
   "execution_count": 8,
   "id": "1edd0045-5f4b-4026-9d72-d57796984a84",
   "metadata": {},
   "outputs": [
    {
     "name": "stdout",
     "output_type": "stream",
     "text": [
      "(4+6j)\n"
     ]
    }
   ],
   "source": [
    "# Additions\n",
    "print (Z + X)"
   ]
  },
  {
   "cell_type": "code",
   "execution_count": 9,
   "id": "08c68d9a-9239-472b-ab02-cb5e9f874f74",
   "metadata": {},
   "outputs": [
    {
     "name": "stdout",
     "output_type": "stream",
     "text": [
      "(2+2j)\n"
     ]
    }
   ],
   "source": [
    "# Subtraction\n",
    "print ( Z-X)"
   ]
  },
  {
   "cell_type": "code",
   "execution_count": 10,
   "id": "ce91187b-ac1e-4ba1-ac2f-e093096ddb4c",
   "metadata": {},
   "outputs": [
    {
     "name": "stdout",
     "output_type": "stream",
     "text": [
      "(-5+10j)\n"
     ]
    }
   ],
   "source": [
    "#Multiplication\n",
    "print (Z*X)"
   ]
  },
  {
   "cell_type": "markdown",
   "id": "b28caeb4-a041-4003-bc88-fc3da3e429ce",
   "metadata": {},
   "source": [
    "- The product Z∗X is:\n",
    "(a+bj)∗(c+dj)=ac+adj+bcj+bdj**2\n",
    " \n",
    "\n",
    "- Since j is the imaginary unit, its square is defined as j**2\n",
    " =−1.\n",
    "\n",
    "- Substituting this into the equation:\n",
    "\n",
    "ac+adj+bcj+b(−1)=(ac−bd)+(ad+bc)j\n",
    "\n",
    "\n",
    "- Real part: (ac−bd)=(3∗1)−(4∗2)=3−8=−5\n",
    "\n",
    "- Imaginary part: (ad+bc)j=(3∗2)+(4∗1)j=(6+4)j=10j"
   ]
  },
  {
   "cell_type": "markdown",
   "id": "dbfa2b41-0384-482d-a630-84ed951f7521",
   "metadata": {},
   "source": [
    "### Built in Function of Python"
   ]
  },
  {
   "cell_type": "markdown",
   "id": "f0756d48-f37c-4e38-b929-f7d2dba8d4b1",
   "metadata": {},
   "source": [
    "When dealing with complex numbers in Python, there are built-in functions to perform common operations. \n",
    "\n",
    "**Let's look at abs(z) and conj(z)**\n",
    "\n",
    "**<u>abs(z): Magnitude of a Complex Number</u>**\n",
    "\n",
    "The abs(z) function returns the magnitude (or absolute value) of a complex number z=a+bj. The magnitude is the distance from the origin (0,0) to the point (a,b) in the complex plane. It's calculated using the Pythagorean theorem:\n",
    "\n",
    "∣z∣= a**2 +b**2\n",
    "\n",
    "- For example, if z=3+4j, its magnitude is:\n",
    "\n",
    "∣3+4j∣= (3**2 +4**2)**0.5\n",
    " \n",
    "i.e. (9+16)**0.5 = 5\n",
    "\n",
    "In Python, you would simply use abs(3 + 4j), which returns 5.0.\n",
    "\n",
    "\n",
    "**<u>conj(z): Complex Conjugate </u>**\n",
    "\n",
    "The complex conjugate of a number z=a+bj is another complex number, a−bj. It's found by changing the sign of the imaginary part.\n",
    "\n",
    "The conj(z) function returns the complex conjugate. For example, if z=3+4j, its conjugate is 3−4j.\n",
    "\n",
    "A useful property of complex conjugates is that multiplying a complex number by its conjugate results in a real number equal to the square of its magnitude:\n",
    "\n",
    "z∗conjugate(z)\n",
    "=(a+bj)(a−bj)\n",
    "=a**2 −(bj)**2 \n",
    "=a**2 −b**2 j**2\n",
    "=a**2 −b**2 (−1)\n",
    "=a**2 +b**2\n",
    " \n",
    "In Python, the conjugate() method is used. For a complex number z = 3 + 4j, z.conjugate() would return (3-4j)."
   ]
  },
  {
   "cell_type": "code",
   "execution_count": 11,
   "id": "2457e4b5-0336-4943-bd44-34b07ff69672",
   "metadata": {},
   "outputs": [
    {
     "name": "stdout",
     "output_type": "stream",
     "text": [
      "5.0\n"
     ]
    }
   ],
   "source": [
    "print (abs(Z))"
   ]
  },
  {
   "cell_type": "code",
   "execution_count": 14,
   "id": "6e609f1e-d229-45f7-a44d-28901695c74a",
   "metadata": {},
   "outputs": [
    {
     "name": "stdout",
     "output_type": "stream",
     "text": [
      "(3-4j)\n"
     ]
    }
   ],
   "source": [
    "print(Z.conjugate())"
   ]
  },
  {
   "cell_type": "code",
   "execution_count": 15,
   "id": "15577f87-0215-4778-a635-742cd9ef29f3",
   "metadata": {},
   "outputs": [],
   "source": [
    "import cmath"
   ]
  },
  {
   "cell_type": "code",
   "execution_count": 17,
   "id": "535fce47-bb11-4db2-a546-aac1c854fb12",
   "metadata": {},
   "outputs": [
    {
     "name": "stdout",
     "output_type": "stream",
     "text": [
      "0.9272952180016122\n"
     ]
    }
   ],
   "source": [
    "# Getting the phase(angle) of complex Number\n",
    "print(cmath.phase(Z))"
   ]
  },
  {
   "cell_type": "code",
   "execution_count": 18,
   "id": "5f02b2e3-e12e-4e53-9f84-045a4de7210d",
   "metadata": {},
   "outputs": [
    {
     "name": "stdout",
     "output_type": "stream",
     "text": [
      "(5.0, 0.9272952180016122)\n"
     ]
    }
   ],
   "source": [
    "# Getting the Polar form of a complex number (Mangnitude, Angle)\n",
    "print(cmath.polar(Z))"
   ]
  },
  {
   "cell_type": "code",
   "execution_count": 19,
   "id": "382032d0-8de6-41f9-aacb-820ca30f863c",
   "metadata": {},
   "outputs": [
    {
     "name": "stdout",
     "output_type": "stream",
     "text": [
      "(2+1j)\n"
     ]
    }
   ],
   "source": [
    "# Getting the Sqrt of Complex Nubmer\n",
    "print(cmath.sqrt(Z))"
   ]
  },
  {
   "cell_type": "markdown",
   "id": "1bf993ab-eab8-40e2-a3bf-749bf87c0801",
   "metadata": {},
   "source": [
    "# String"
   ]
  },
  {
   "cell_type": "markdown",
   "id": "d0530a48-dd37-43c4-80ef-40454ae41ba1",
   "metadata": {},
   "source": [
    "### Single line comment"
   ]
  },
  {
   "cell_type": "code",
   "execution_count": 30,
   "id": "673aad3d-89f9-4c53-a787-38d539cd8067",
   "metadata": {},
   "outputs": [
    {
     "name": "stdout",
     "output_type": "stream",
     "text": [
      "P\n",
      "1\n",
      "Hello, World!\n",
      "13\n",
      "I hope you are enjoying 30 days of python challenge\n"
     ]
    }
   ],
   "source": [
    "\n",
    "letter = 'P'                # A string could be a single character or a bunch of texts\n",
    "print(letter)               # P\n",
    "print(len(letter))          # 1\n",
    "greeting = 'Hello, World!'  # String could be  a single or double quote,\"Hello, World!\"\n",
    "print(greeting)             # Hello, World!\n",
    "print(len(greeting))        # 13\n",
    "sentence = \"I hope you are enjoying 30 days of python challenge\"\n",
    "print(sentence)"
   ]
  },
  {
   "cell_type": "markdown",
   "id": "5e615c6f-418b-4cd2-aa85-098eab9df20a",
   "metadata": {},
   "source": [
    "### Multiline String"
   ]
  },
  {
   "cell_type": "code",
   "execution_count": 34,
   "id": "2dd3cc23-c4c0-4b61-9c65-e4bb27407846",
   "metadata": {},
   "outputs": [
    {
     "name": "stdout",
     "output_type": "stream",
     "text": [
      "I am a teacher and enjoy teaching.\n",
      "I didn't find anything as rewarding as empowering people.\n",
      "That is why I created 30 days of python.\n"
     ]
    }
   ],
   "source": [
    "\n",
    "multiline_string = '''I am a teacher and enjoy teaching.\n",
    "I didn't find anything as rewarding as empowering people.\n",
    "That is why I created 30 days of python.'''\n",
    "print(multiline_string)\n"
   ]
  },
  {
   "cell_type": "code",
   "execution_count": 33,
   "id": "b36b60fc-cce1-4128-a5cb-b05e33729b0a",
   "metadata": {},
   "outputs": [
    {
     "name": "stdout",
     "output_type": "stream",
     "text": [
      "I am a teacher and enjoy teaching.\n",
      "I didn't find anything as rewarding as empowering people.\n",
      "That is why I created 30 days of python.\n"
     ]
    }
   ],
   "source": [
    "# Another way of doing the same thing\n",
    "\n",
    "multiline_string = \"\"\"I am a teacher and enjoy teaching.\n",
    "I didn't find anything as rewarding as empowering people.\n",
    "That is why I created 30 days of python.\"\"\"\n",
    "print(multiline_string)"
   ]
  },
  {
   "cell_type": "markdown",
   "id": "a0793579-7105-46b5-ac31-3375aa714e0c",
   "metadata": {},
   "source": [
    "### String Concatenation"
   ]
  },
  {
   "cell_type": "code",
   "execution_count": 35,
   "id": "5b65edde-b2d4-457b-bb4d-d45c03a22062",
   "metadata": {},
   "outputs": [
    {
     "name": "stdout",
     "output_type": "stream",
     "text": [
      "Asabeneh Yetayeh\n",
      "8\n",
      "7\n",
      "True\n",
      "16\n"
     ]
    }
   ],
   "source": [
    "\n",
    "first_name = 'Asabeneh'\n",
    "last_name = 'Yetayeh'\n",
    "space = ' '\n",
    "full_name = first_name  +  space + last_name\n",
    "print(full_name) # Asabeneh Yetayeh\n",
    "# Checking length of a string using len() builtin function\n",
    "print(len(first_name))  # 8\n",
    "print(len(last_name))   # 7\n",
    "print(len(first_name) > len(last_name)) # True\n",
    "print(len(full_name)) # 15"
   ]
  },
  {
   "cell_type": "markdown",
   "id": "3b07b3fa-6b2c-4ba1-8122-a02620d3ba47",
   "metadata": {},
   "source": [
    "#### Unpacking characters "
   ]
  },
  {
   "cell_type": "code",
   "execution_count": 36,
   "id": "6125981a-acf5-478f-b27a-47cd290dfc57",
   "metadata": {},
   "outputs": [
    {
     "name": "stdout",
     "output_type": "stream",
     "text": [
      "P\n",
      "y\n",
      "t\n",
      "h\n",
      "o\n",
      "n\n"
     ]
    }
   ],
   "source": [
    "\n",
    "language = 'Python'\n",
    "a,b,c,d,e,f = language # unpacking sequence characters into variables\n",
    "print(a) # P\n",
    "print(b) # y\n",
    "print(c) # t \n",
    "print(d) # h\n",
    "print(e) # o\n",
    "print(f) # n\n"
   ]
  },
  {
   "cell_type": "code",
   "execution_count": null,
   "id": "54dc6a03-94c2-4af4-866d-bd24a2aa9d28",
   "metadata": {},
   "outputs": [],
   "source": []
  }
 ],
 "metadata": {
  "kernelspec": {
   "display_name": "Python 3 (ipykernel)",
   "language": "python",
   "name": "python3"
  },
  "language_info": {
   "codemirror_mode": {
    "name": "ipython",
    "version": 3
   },
   "file_extension": ".py",
   "mimetype": "text/x-python",
   "name": "python",
   "nbconvert_exporter": "python",
   "pygments_lexer": "ipython3",
   "version": "3.13.5"
  }
 },
 "nbformat": 4,
 "nbformat_minor": 5
}
