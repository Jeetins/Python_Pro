{
 "cells": [
  {
   "cell_type": "markdown",
   "id": "5e889a0c-f813-4aa4-9551-7d740f0eab33",
   "metadata": {},
   "source": [
    "# INdexing or Subscript\n",
    "- extract 1 character in a String ( only in Fundamental Data Type)\n",
    "- extract 1 character in a list"
   ]
  },
  {
   "cell_type": "code",
   "execution_count": 1,
   "id": "dcd685be-4f7a-45a2-98ca-6165e09ab6c6",
   "metadata": {},
   "outputs": [],
   "source": [
    "#Sting is the combination of Multiple character"
   ]
  },
  {
   "cell_type": "code",
   "execution_count": 2,
   "id": "96d9d32a-ca01-4424-b217-3819925cd3ca",
   "metadata": {},
   "outputs": [],
   "source": [
    "# positive indexing starts  from 0 to len -1"
   ]
  },
  {
   "cell_type": "code",
   "execution_count": 3,
   "id": "2df78a02-706a-42fa-836f-376dcd522914",
   "metadata": {},
   "outputs": [],
   "source": [
    "#-ve indexing starts from -1 to -len"
   ]
  },
  {
   "cell_type": "code",
   "execution_count": 4,
   "id": "52222af7-1f43-4049-aa6b-35e08aeb61b2",
   "metadata": {},
   "outputs": [],
   "source": [
    "#Syntax: Variable Name[index number]"
   ]
  },
  {
   "cell_type": "code",
   "execution_count": 2,
   "id": "b144efb3-7692-4649-8fe9-6b625988db2b",
   "metadata": {},
   "outputs": [],
   "source": [
    "s=\"Data Science\""
   ]
  },
  {
   "cell_type": "code",
   "execution_count": 26,
   "id": "12183931-ec0f-4fe0-8b26-d554699596ba",
   "metadata": {},
   "outputs": [
    {
     "data": {
      "text/plain": [
       "'D'"
      ]
     },
     "execution_count": 26,
     "metadata": {},
     "output_type": "execute_result"
    }
   ],
   "source": [
    "s[-12]"
   ]
  },
  {
   "cell_type": "code",
   "execution_count": 17,
   "id": "d82b02e3-39bf-40d4-86bc-6c19481a297c",
   "metadata": {},
   "outputs": [
    {
     "data": {
      "text/plain": [
       "'Data Science'"
      ]
     },
     "execution_count": 17,
     "metadata": {},
     "output_type": "execute_result"
    }
   ],
   "source": [
    "s[0:12:1]"
   ]
  },
  {
   "cell_type": "code",
   "execution_count": 27,
   "id": "5689d106-4100-4dd5-ab3e-a64ceefc0c31",
   "metadata": {},
   "outputs": [
    {
     "data": {
      "text/plain": [
       "'Data Science'"
      ]
     },
     "execution_count": 27,
     "metadata": {},
     "output_type": "execute_result"
    }
   ],
   "source": [
    "s[:]"
   ]
  },
  {
   "cell_type": "code",
   "execution_count": null,
   "id": "41c82150-372c-44fd-a712-aee88fa3333c",
   "metadata": {},
   "outputs": [],
   "source": []
  },
  {
   "cell_type": "code",
   "execution_count": 16,
   "id": "21019ad3-089a-4750-969d-5945ed685ce7",
   "metadata": {},
   "outputs": [
    {
     "data": {
      "text/plain": [
       "'Data '"
      ]
     },
     "execution_count": 16,
     "metadata": {},
     "output_type": "execute_result"
    }
   ],
   "source": [
    "s[0:5]"
   ]
  },
  {
   "cell_type": "code",
   "execution_count": 24,
   "id": "56a7d12c-8e43-485f-b38b-de96432878cb",
   "metadata": {},
   "outputs": [
    {
     "data": {
      "text/plain": [
       "'ti'"
      ]
     },
     "execution_count": 24,
     "metadata": {},
     "output_type": "execute_result"
    }
   ],
   "source": [
    "s[-10:500:5]"
   ]
  },
  {
   "cell_type": "code",
   "execution_count": 19,
   "id": "49af3892-61e3-44c4-bc44-04591f0db84c",
   "metadata": {},
   "outputs": [
    {
     "data": {
      "text/plain": [
       "''"
      ]
     },
     "execution_count": 19,
     "metadata": {},
     "output_type": "execute_result"
    }
   ],
   "source": [
    "s[5:10:-1]"
   ]
  },
  {
   "cell_type": "code",
   "execution_count": 15,
   "id": "fe4db72d-3bb9-4fea-a5f8-1a9b74d23a7e",
   "metadata": {},
   "outputs": [
    {
     "data": {
      "text/plain": [
       "'Data Science'"
      ]
     },
     "execution_count": 15,
     "metadata": {},
     "output_type": "execute_result"
    }
   ],
   "source": [
    "s[0:]"
   ]
  },
  {
   "cell_type": "code",
   "execution_count": 12,
   "id": "dfc57d1d-e764-4460-9556-5e6355e8bb53",
   "metadata": {},
   "outputs": [
    {
     "data": {
      "text/plain": [
       "'ecneicS ataD'"
      ]
     },
     "execution_count": 12,
     "metadata": {},
     "output_type": "execute_result"
    }
   ],
   "source": [
    "s[-1: : -1]"
   ]
  },
  {
   "cell_type": "code",
   "execution_count": 25,
   "id": "c8e86a66-b452-4e28-b7c7-c96e405eef08",
   "metadata": {},
   "outputs": [
    {
     "data": {
      "text/plain": [
       "'Data Science'"
      ]
     },
     "execution_count": 25,
     "metadata": {},
     "output_type": "execute_result"
    }
   ],
   "source": [
    "s[-13:]"
   ]
  },
  {
   "cell_type": "code",
   "execution_count": 10,
   "id": "1d619d21-ce39-482f-a8f4-3a0eb5d1e2b7",
   "metadata": {},
   "outputs": [],
   "source": [
    "#INdexing should be int only can't be float or any Other format"
   ]
  },
  {
   "cell_type": "code",
   "execution_count": 11,
   "id": "5c2cedcf-9327-49de-8901-530ec034805b",
   "metadata": {},
   "outputs": [
    {
     "data": {
      "text/plain": [
       "'e'"
      ]
     },
     "execution_count": 11,
     "metadata": {},
     "output_type": "execute_result"
    }
   ],
   "source": [
    "s[-1] # last character s[-1] or s[len(s)-1]"
   ]
  },
  {
   "cell_type": "markdown",
   "id": "4f856ecd-cc30-4455-bcc2-ac42c82f3e75",
   "metadata": {},
   "source": [
    "# Slicing"
   ]
  },
  {
   "cell_type": "code",
   "execution_count": 18,
   "id": "6a65c1cc-7158-43a7-932b-2d4012914339",
   "metadata": {},
   "outputs": [
    {
     "data": {
      "text/plain": [
       "'Data Science'"
      ]
     },
     "execution_count": 18,
     "metadata": {},
     "output_type": "execute_result"
    }
   ],
   "source": [
    "s[0:12:1]"
   ]
  },
  {
   "cell_type": "code",
   "execution_count": 19,
   "id": "de274b9b-8308-41b9-a053-d61bf344d801",
   "metadata": {},
   "outputs": [
    {
     "data": {
      "text/plain": [
       "'Dt cec'"
      ]
     },
     "execution_count": 19,
     "metadata": {},
     "output_type": "execute_result"
    }
   ],
   "source": [
    "s[0:12:2]"
   ]
  },
  {
   "cell_type": "code",
   "execution_count": 22,
   "id": "c901d46d-0f9e-452f-9313-29d4379120fd",
   "metadata": {},
   "outputs": [
    {
     "data": {
      "text/plain": [
       "' Science'"
      ]
     },
     "execution_count": 22,
     "metadata": {},
     "output_type": "execute_result"
    }
   ],
   "source": [
    "s[4:25:1] # if the end Index is beyond the string it will not take any error and will end with last character. "
   ]
  },
  {
   "cell_type": "code",
   "execution_count": 23,
   "id": "95971538-f6dd-4613-9c24-01332a99defd",
   "metadata": {},
   "outputs": [
    {
     "data": {
      "text/plain": [
       "''"
      ]
     },
     "execution_count": 23,
     "metadata": {},
     "output_type": "execute_result"
    }
   ],
   "source": [
    "s[25:25:1] # no character is taken since its outside of String index value"
   ]
  },
  {
   "cell_type": "code",
   "execution_count": 24,
   "id": "75296c88-285f-47b7-81cc-876852f40431",
   "metadata": {},
   "outputs": [
    {
     "data": {
      "text/plain": [
       "''"
      ]
     },
     "execution_count": 24,
     "metadata": {},
     "output_type": "execute_result"
    }
   ],
   "source": [
    "s[5:10:-1] # The direction of -ve way is not possbile with Positive direction way. So, it is Empty. "
   ]
  },
  {
   "cell_type": "code",
   "execution_count": 25,
   "id": "0335bf8d-28c4-4565-9628-7c60bd6d8c6f",
   "metadata": {},
   "outputs": [
    {
     "data": {
      "text/plain": [
       "'ta Scien'"
      ]
     },
     "execution_count": 25,
     "metadata": {},
     "output_type": "execute_result"
    }
   ],
   "source": [
    "s[-10:-2:1]"
   ]
  },
  {
   "cell_type": "code",
   "execution_count": 27,
   "id": "fa99bd3c-4baf-4164-9a32-fd7e4a621707",
   "metadata": {},
   "outputs": [
    {
     "data": {
      "text/plain": [
       "''"
      ]
     },
     "execution_count": 27,
     "metadata": {},
     "output_type": "execute_result"
    }
   ],
   "source": [
    "s[-10:-2:-1] # The direction of +ve way is not possbile with -ve direction way. So, it is Empty. "
   ]
  },
  {
   "cell_type": "code",
   "execution_count": 28,
   "id": "8fdb225e-3f62-49af-9e80-3856816167fd",
   "metadata": {},
   "outputs": [
    {
     "data": {
      "text/plain": [
       "'DS'"
      ]
     },
     "execution_count": 28,
     "metadata": {},
     "output_type": "execute_result"
    }
   ],
   "source": [
    "s[0:10:5]"
   ]
  },
  {
   "cell_type": "code",
   "execution_count": 30,
   "id": "e9ec47cb-febc-4bb3-ac01-5cb4496dd4bb",
   "metadata": {},
   "outputs": [
    {
     "data": {
      "text/plain": [
       "'Dacn'"
      ]
     },
     "execution_count": 30,
     "metadata": {},
     "output_type": "execute_result"
    }
   ],
   "source": [
    "s[-130:-1:3] # The start index irrespective to any value, 1st Character of the String will be considered"
   ]
  },
  {
   "cell_type": "code",
   "execution_count": 32,
   "id": "32bc6958-68ce-4ce8-b7a6-3e9117a5f02a",
   "metadata": {},
   "outputs": [
    {
     "data": {
      "text/plain": [
       "'Dacn'"
      ]
     },
     "execution_count": 32,
     "metadata": {},
     "output_type": "execute_result"
    }
   ],
   "source": [
    "s[:-1:3] #If start index is not given it take the default value of 1st character,\n",
    "#i.e. end index is in -ve then -ve value will be taken if +ve end index is give  then +ve index value will be taken"
   ]
  },
  {
   "cell_type": "code",
   "execution_count": 37,
   "id": "be6eeab0-1827-446b-b520-4e3349efb727",
   "metadata": {},
   "outputs": [
    {
     "data": {
      "text/plain": [
       "'Data Science'"
      ]
     },
     "execution_count": 37,
     "metadata": {},
     "output_type": "execute_result"
    }
   ],
   "source": [
    "s[-12: :1]#It will take the end character as end index"
   ]
  },
  {
   "cell_type": "code",
   "execution_count": 39,
   "id": "11098f50-e8a2-4cbd-bcfc-684f11f10c75",
   "metadata": {},
   "outputs": [
    {
     "data": {
      "text/plain": [
       "'D'"
      ]
     },
     "execution_count": 39,
     "metadata": {},
     "output_type": "execute_result"
    }
   ],
   "source": [
    "s[-12:1] # It will take start index and end index with +1 increment"
   ]
  },
  {
   "cell_type": "code",
   "execution_count": 42,
   "id": "d5a58b4a-6415-4ba4-a13c-09ab3d7878ed",
   "metadata": {},
   "outputs": [
    {
     "data": {
      "text/plain": [
       "'Science'"
      ]
     },
     "execution_count": 42,
     "metadata": {},
     "output_type": "execute_result"
    }
   ],
   "source": [
    "s[5:] # Default is +1 step and it take until end index. "
   ]
  },
  {
   "cell_type": "code",
   "execution_count": 45,
   "id": "c5da7bf2-43b9-4499-9d0c-896f59d30eea",
   "metadata": {},
   "outputs": [
    {
     "data": {
      "text/plain": [
       "'D'"
      ]
     },
     "execution_count": 45,
     "metadata": {},
     "output_type": "execute_result"
    }
   ],
   "source": [
    "s[0]"
   ]
  },
  {
   "cell_type": "code",
   "execution_count": 44,
   "id": "d4515aa8-2a9d-42fe-831c-df261da63e7e",
   "metadata": {},
   "outputs": [
    {
     "data": {
      "text/plain": [
       "'Data Scien'"
      ]
     },
     "execution_count": 44,
     "metadata": {},
     "output_type": "execute_result"
    }
   ],
   "source": [
    "s[:10]"
   ]
  },
  {
   "cell_type": "code",
   "execution_count": 46,
   "id": "06c15ea4-5a60-4ecf-ad3c-d49dc16afa36",
   "metadata": {},
   "outputs": [
    {
     "data": {
      "text/plain": [
       "'ecneicS ataD'"
      ]
     },
     "execution_count": 46,
     "metadata": {},
     "output_type": "execute_result"
    }
   ],
   "source": [
    "s[::-1]"
   ]
  },
  {
   "cell_type": "code",
   "execution_count": 53,
   "id": "c9b8dba2-dc73-451c-a938-85295195b15d",
   "metadata": {},
   "outputs": [],
   "source": [
    "a=s[0:4:1]+s[5:] # print Data Science without space. "
   ]
  },
  {
   "cell_type": "code",
   "execution_count": 54,
   "id": "d4eec23f-5e22-45c5-8eb9-da63ba4c29f4",
   "metadata": {},
   "outputs": [
    {
     "data": {
      "text/plain": [
       "'DataScience'"
      ]
     },
     "execution_count": 54,
     "metadata": {},
     "output_type": "execute_result"
    }
   ],
   "source": [
    "a"
   ]
  },
  {
   "cell_type": "code",
   "execution_count": 55,
   "id": "bebb5de8-879f-4e52-85b9-ecbecdda1d5a",
   "metadata": {},
   "outputs": [],
   "source": [
    "#if we don't have standard jump then we can't use slicing ( follow the concept of looping)"
   ]
  },
  {
   "cell_type": "code",
   "execution_count": 3,
   "id": "e81df993-51c0-4d61-b841-a36191252f6d",
   "metadata": {},
   "outputs": [
    {
     "data": {
      "text/plain": [
       "'ecneicS'"
      ]
     },
     "execution_count": 3,
     "metadata": {},
     "output_type": "execute_result"
    }
   ],
   "source": [
    "s[:4:-1]"
   ]
  },
  {
   "cell_type": "code",
   "execution_count": 4,
   "id": "2fdfbcf7-5def-47d0-af29-26c43a63776c",
   "metadata": {},
   "outputs": [
    {
     "data": {
      "text/plain": [
       "'ecneicS ataD'"
      ]
     },
     "execution_count": 4,
     "metadata": {},
     "output_type": "execute_result"
    }
   ],
   "source": [
    "s[::-1]"
   ]
  },
  {
   "cell_type": "code",
   "execution_count": 1,
   "id": "6ea2aeeb-8c77-4959-9a3c-26faa805dc9f",
   "metadata": {},
   "outputs": [
    {
     "data": {
      "text/plain": [
       "6"
      ]
     },
     "execution_count": 1,
     "metadata": {},
     "output_type": "execute_result"
    }
   ],
   "source": [
    "s=\"Python\"\n",
    "len(s)"
   ]
  },
  {
   "cell_type": "code",
   "execution_count": 2,
   "id": "fde22826-7324-4081-8e4f-8a4278d833c0",
   "metadata": {},
   "outputs": [
    {
     "data": {
      "text/plain": [
       "'Python'"
      ]
     },
     "execution_count": 2,
     "metadata": {},
     "output_type": "execute_result"
    }
   ],
   "source": [
    "s[:6]"
   ]
  },
  {
   "cell_type": "code",
   "execution_count": null,
   "id": "a7026784-9d97-4eed-93fa-8659669f960a",
   "metadata": {},
   "outputs": [],
   "source": []
  }
 ],
 "metadata": {
  "kernelspec": {
   "display_name": "Python 3 (ipykernel)",
   "language": "python",
   "name": "python3"
  },
  "language_info": {
   "codemirror_mode": {
    "name": "ipython",
    "version": 3
   },
   "file_extension": ".py",
   "mimetype": "text/x-python",
   "name": "python",
   "nbconvert_exporter": "python",
   "pygments_lexer": "ipython3",
   "version": "3.13.5"
  }
 },
 "nbformat": 4,
 "nbformat_minor": 5
}
