{
 "cells": [
  {
   "cell_type": "markdown",
   "id": "0a5cd22e-dffa-4c39-9618-435dda860188",
   "metadata": {},
   "source": [
    "# Modification of List\n",
    "- Add,Delete,change"
   ]
  },
  {
   "cell_type": "code",
   "execution_count": 4,
   "id": "866d5011-2c87-45d4-9009-8d8bd8b97558",
   "metadata": {},
   "outputs": [
    {
     "name": "stdout",
     "output_type": "stream",
     "text": [
      "[]\n"
     ]
    },
    {
     "data": {
      "text/plain": [
       "0"
      ]
     },
     "execution_count": 4,
     "metadata": {},
     "output_type": "execute_result"
    }
   ],
   "source": [
    "l=[ ]\n",
    "print(l)\n",
    "len(l)\n"
   ]
  },
  {
   "cell_type": "markdown",
   "id": "a09eb733-57d1-49a2-944a-b3ec40d12d95",
   "metadata": {},
   "source": [
    "#### List Functions\n",
    "\n",
    "\n",
    "- l.append\n",
    "- l.clear\n",
    "- l.copy\n",
    "- l.count\n",
    "- l.extend\n",
    "- l.index\n",
    "- l.insert\n",
    "- l.pop\n",
    "- l.remove\n",
    "- l.reverse\n",
    "- l.sort\n"
   ]
  },
  {
   "cell_type": "code",
   "execution_count": 1,
   "id": "2528b763-c585-4c42-95b6-d732dbdb9952",
   "metadata": {},
   "outputs": [
    {
     "name": "stdout",
     "output_type": "stream",
     "text": [
      "My favourite series is \"Game of Thrones\"\n"
     ]
    }
   ],
   "source": [
    "#Using escape character to allow illegal characters \n",
    "mystr = \"My favourite series is \\\"Game of Thrones\\\"\" \n",
    "print(mystr)"
   ]
  },
  {
   "cell_type": "code",
   "execution_count": 5,
   "id": "826671b3-0f99-4525-8237-99959b21f8c4",
   "metadata": {},
   "outputs": [
    {
     "name": "stdout",
     "output_type": "stream",
     "text": [
      "(12, 13, 1, 4)\n"
     ]
    },
    {
     "data": {
      "text/plain": [
       "tuple"
      ]
     },
     "execution_count": 5,
     "metadata": {},
     "output_type": "execute_result"
    }
   ],
   "source": [
    "l=12,13,1,4\n",
    "print(l)\n",
    "type(l)"
   ]
  },
  {
   "cell_type": "code",
   "execution_count": 6,
   "id": "6e360f9c-4776-44f4-8671-2b5634ce96b6",
   "metadata": {},
   "outputs": [
    {
     "name": "stdout",
     "output_type": "stream",
     "text": [
      "String:  abcdefghijklmnopqrstuvwxyzABCDEFGHIJKLMNOPQRSTUVWXYZ\n",
      "\n",
      "Lists:  ['a', 'b', 'c', 'd', 'e', 'f', 'g', 'h', 'i', 'j', 'k', 'l', 'm', 'n', 'o', 'p', 'q', 'r', 's', 't', 'u', 'v', 'w', 'x', 'y', 'z', 'A', 'B', 'C', 'D', 'E', 'F', 'G', 'H', 'I', 'J', 'K', 'L', 'M', 'N', 'O', 'P', 'Q', 'R', 'S', 'T', 'U', 'V', 'W', 'X', 'Y', 'Z']\n",
      "\n",
      "Tuples:  ('a', 'b', 'c', 'd', 'e', 'f', 'g', 'h', 'i', 'j', 'k', 'l', 'm', 'n', 'o', 'p', 'q', 'r', 's', 't', 'u', 'v', 'w', 'x', 'y', 'z', 'A', 'B', 'C', 'D', 'E', 'F', 'G', 'H', 'I', 'J', 'K', 'L', 'M', 'N', 'O', 'P', 'Q', 'R', 'S', 'T', 'U', 'V', 'W', 'X', 'Y', 'Z')\n",
      "\n",
      "Sets:  {'v', 'Q', 'r', 'P', 'z', 'B', 'g', 'x', 'V', 'T', 'b', 'c', 'G', 'F', 'D', 'I', 'M', 'Y', 'Z', 'u', 'J', 'y', 'C', 'E', 'o', 'e', 'H', 'A', 'l', 'h', 'k', 'L', 'O', 'N', 'W', 'w', 'm', 'q', 'a', 'f', 's', 'K', 't', 'X', 'R', 'p', 'S', 'd', 'U', 'j', 'n', 'i'}\n"
     ]
    }
   ],
   "source": [
    "letters = 'abcdefghijklmnopqrstuvwxyzABCDEFGHIJKLMNOPQRSTUVWXYZ'\n",
    "\n",
    "string_letters = str(letters)\n",
    "lists_letters = list(letters)\n",
    "tuples_letters = tuple(letters)\n",
    "sets_letters = set(letters)\n",
    "\n",
    "\n",
    "print(\"String: \", string_letters)\n",
    "print() # for new line\n",
    "print(\"Lists: \", lists_letters)\n",
    "print() # for new line\n",
    "print(\"Tuples: \", tuples_letters)\n",
    "print() # for new line\n",
    "print(\"Sets: \", sets_letters)"
   ]
  },
  {
   "cell_type": "code",
   "execution_count": 8,
   "id": "a7b74796-8c9d-4212-b641-7a6880f9528b",
   "metadata": {},
   "outputs": [
    {
     "data": {
      "text/plain": [
       "list"
      ]
     },
     "execution_count": 8,
     "metadata": {},
     "output_type": "execute_result"
    }
   ],
   "source": [
    "l=[12,12.5,\"Jeetin\",True,[1,2,3,4,5],(1,2,3),[\"Hello\"]]    #This is hetergenous\n",
    "type(l)"
   ]
  },
  {
   "cell_type": "code",
   "execution_count": 9,
   "id": "84a69950-fac1-41bf-9e6a-58e07b82a5f1",
   "metadata": {},
   "outputs": [
    {
     "data": {
      "text/plain": [
       "[1, 2, 3, 4, 5]"
      ]
     },
     "execution_count": 9,
     "metadata": {},
     "output_type": "execute_result"
    }
   ],
   "source": [
    "l[4]"
   ]
  },
  {
   "cell_type": "code",
   "execution_count": 6,
   "id": "b1a48e75-02ef-4501-8dbe-fb8544c182c2",
   "metadata": {},
   "outputs": [
    {
     "data": {
      "text/plain": [
       "3"
      ]
     },
     "execution_count": 6,
     "metadata": {},
     "output_type": "execute_result"
    }
   ],
   "source": [
    "l[5][2]"
   ]
  },
  {
   "cell_type": "code",
   "execution_count": 7,
   "id": "92939139-dbd8-4430-9804-b5298215cad9",
   "metadata": {},
   "outputs": [],
   "source": [
    "l=[12,12.5,\"Jeetin\",True,[1,2,3,4,5],(1,2,3),[\"Hello\"]] "
   ]
  },
  {
   "cell_type": "code",
   "execution_count": 8,
   "id": "8c642ab0-e081-4a63-95f6-0ba998e6d3ab",
   "metadata": {},
   "outputs": [
    {
     "data": {
      "text/plain": [
       "[12.5, 'Jeetin', True, [1, 2, 3, 4, 5]]"
      ]
     },
     "execution_count": 8,
     "metadata": {},
     "output_type": "execute_result"
    }
   ],
   "source": [
    "l[1:5]"
   ]
  },
  {
   "cell_type": "code",
   "execution_count": 13,
   "id": "41df6568-4897-44bc-8841-1b3515a18339",
   "metadata": {},
   "outputs": [
    {
     "data": {
      "text/plain": [
       "'H'"
      ]
     },
     "execution_count": 13,
     "metadata": {},
     "output_type": "execute_result"
    }
   ],
   "source": [
    "l[6][0][0]# Answer "
   ]
  },
  {
   "cell_type": "code",
   "execution_count": 10,
   "id": "9789a298-7b73-46f1-99bb-26e6d4bdb069",
   "metadata": {},
   "outputs": [
    {
     "data": {
      "text/plain": [
       "[1, 2, 3, 4, 6, 7, 8, 9]"
      ]
     },
     "execution_count": 10,
     "metadata": {},
     "output_type": "execute_result"
    }
   ],
   "source": [
    "l=[1,2,3,4]\n",
    "m=[6,7,8,9]\n",
    "l+m"
   ]
  },
  {
   "cell_type": "code",
   "execution_count": 11,
   "id": "d109d97e-43c4-4fce-a2ba-cafbd5c53305",
   "metadata": {},
   "outputs": [
    {
     "data": {
      "text/plain": [
       "[6, 7, 8, 9, 6, 7, 8, 9]"
      ]
     },
     "execution_count": 11,
     "metadata": {},
     "output_type": "execute_result"
    }
   ],
   "source": [
    "m+m"
   ]
  },
  {
   "cell_type": "code",
   "execution_count": 12,
   "id": "2f9444dc-7b9a-4854-834f-7954a70f3d5f",
   "metadata": {},
   "outputs": [
    {
     "name": "stdout",
     "output_type": "stream",
     "text": [
      "[12, 13, 1, 4]\n"
     ]
    },
    {
     "data": {
      "text/plain": [
       "list"
      ]
     },
     "execution_count": 12,
     "metadata": {},
     "output_type": "execute_result"
    }
   ],
   "source": [
    "l=[12,13,1,4]\n",
    "print(l)\n",
    "type(l)"
   ]
  },
  {
   "cell_type": "code",
   "execution_count": 13,
   "id": "9131008e-4f04-4a31-abf5-0b7c20a1a9c9",
   "metadata": {},
   "outputs": [
    {
     "data": {
      "text/plain": [
       "'srk'"
      ]
     },
     "execution_count": 13,
     "metadata": {},
     "output_type": "execute_result"
    }
   ],
   "source": [
    "l=\"srk\"\n",
    "l.upper()\n",
    "l"
   ]
  },
  {
   "cell_type": "code",
   "execution_count": 62,
   "id": "095f8d1c-5513-48a3-9122-cb4b5792883a",
   "metadata": {},
   "outputs": [
    {
     "name": "stdout",
     "output_type": "stream",
     "text": [
      "[1, 2, 3, 3.5, 4.5, 6]\n"
     ]
    }
   ],
   "source": [
    "print(l)"
   ]
  },
  {
   "cell_type": "code",
   "execution_count": 14,
   "id": "f0516381-4d5d-4cfc-bf9f-db27dc22fa91",
   "metadata": {},
   "outputs": [],
   "source": [
    "l=[1,2,3,4]"
   ]
  },
  {
   "cell_type": "code",
   "execution_count": 15,
   "id": "d42fafbe-5c81-4ce4-b3f2-d6bfd84e3e6c",
   "metadata": {},
   "outputs": [
    {
     "data": {
      "text/plain": [
       "[1, 2, 3, 4, 5]"
      ]
     },
     "execution_count": 15,
     "metadata": {},
     "output_type": "execute_result"
    }
   ],
   "source": [
    "l.append(5)\n",
    "l"
   ]
  },
  {
   "cell_type": "code",
   "execution_count": 16,
   "id": "697e26a5-385e-4967-8435-367a1b8d49a0",
   "metadata": {},
   "outputs": [
    {
     "data": {
      "text/plain": [
       "[1, 2, 3, 4, 5, 6, 7]"
      ]
     },
     "execution_count": 16,
     "metadata": {},
     "output_type": "execute_result"
    }
   ],
   "source": [
    "l.extend([6,7])\n",
    "l"
   ]
  },
  {
   "cell_type": "code",
   "execution_count": 17,
   "id": "9cc1976b-a8b7-47aa-b0a6-3b6009834e83",
   "metadata": {},
   "outputs": [],
   "source": [
    "#String, List & Tuple we can have nested list"
   ]
  },
  {
   "cell_type": "code",
   "execution_count": 18,
   "id": "f2b62e53-1a2e-4ff0-adf9-395728bd94e8",
   "metadata": {},
   "outputs": [],
   "source": [
    "l=[1,23,[4,5],[23,34,45,56],9,[45,67],7]"
   ]
  },
  {
   "cell_type": "code",
   "execution_count": 19,
   "id": "79345bcb-552f-4c4a-9af8-6db367d1b4fc",
   "metadata": {},
   "outputs": [
    {
     "data": {
      "text/plain": [
       "45"
      ]
     },
     "execution_count": 19,
     "metadata": {},
     "output_type": "execute_result"
    }
   ],
   "source": [
    "# Indexing 0 is applied on the O/p of l[5]\n",
    "l[5][0]"
   ]
  },
  {
   "cell_type": "code",
   "execution_count": 20,
   "id": "0f3b7eba-3f8b-4f2f-86b0-dac24259e534",
   "metadata": {},
   "outputs": [],
   "source": [
    "#slicing can be Obtain on Nested listed"
   ]
  },
  {
   "cell_type": "code",
   "execution_count": 21,
   "id": "ef3a138e-a358-4750-a61e-e99ec67af4e5",
   "metadata": {},
   "outputs": [
    {
     "data": {
      "text/plain": [
       "[23, [4, 5], [23, 34, 45, 56], 9]"
      ]
     },
     "execution_count": 21,
     "metadata": {},
     "output_type": "execute_result"
    }
   ],
   "source": [
    "l[1:5]"
   ]
  },
  {
   "cell_type": "code",
   "execution_count": 22,
   "id": "1209754c-cf5d-44fa-980f-cfa34d7d37df",
   "metadata": {},
   "outputs": [
    {
     "data": {
      "text/plain": [
       "[[4, 5], [23, 34, 45, 56], 9]"
      ]
     },
     "execution_count": 22,
     "metadata": {},
     "output_type": "execute_result"
    }
   ],
   "source": [
    "l[1:5][1:]"
   ]
  },
  {
   "cell_type": "code",
   "execution_count": 23,
   "id": "a2a6d643-13d6-4bee-8576-c5ec87d382b3",
   "metadata": {},
   "outputs": [
    {
     "data": {
      "text/plain": [
       "[23, 34, 45, 56]"
      ]
     },
     "execution_count": 23,
     "metadata": {},
     "output_type": "execute_result"
    }
   ],
   "source": [
    "l[1:5][1:][1]"
   ]
  },
  {
   "cell_type": "code",
   "execution_count": 24,
   "id": "32d9788c-00ab-48d7-abb1-b158f9f44ce4",
   "metadata": {},
   "outputs": [
    {
     "ename": "SyntaxError",
     "evalue": "invalid syntax (3499319673.py, line 5)",
     "output_type": "error",
     "traceback": [
      "\u001b[1;36m  Cell \u001b[1;32mIn[24], line 5\u001b[1;36m\u001b[0m\n\u001b[1;33m    - list has all 3 ---> mutable\u001b[0m\n\u001b[1;37m           ^\u001b[0m\n\u001b[1;31mSyntaxError\u001b[0m\u001b[1;31m:\u001b[0m invalid syntax\n"
     ]
    }
   ],
   "source": [
    "#List are mutuable\n",
    "# modification of item are done within the list original Object without created new Object\n",
    "# Modification can be add, Delete or replace\n",
    "\n",
    "- list has all 3 ---> mutable\n",
    "- Dict has all 3 ---> mutable\n",
    "- Set has only 2 which Add & Del ---> mutable\n",
    "- Tuple has no Modification ---> Immutable"
   ]
  },
  {
   "cell_type": "code",
   "execution_count": 25,
   "id": "a719082c-ae75-4cbb-bdb4-44bdf22edd82",
   "metadata": {},
   "outputs": [],
   "source": [
    "# List and Dict is most important which is applied at adv level of analysis"
   ]
  },
  {
   "cell_type": "markdown",
   "id": "6e476663-6526-4576-9ee4-b7fb21789c3c",
   "metadata": {},
   "source": [
    "# List Method"
   ]
  },
  {
   "cell_type": "markdown",
   "id": "f3d91a8f-8442-4974-8d7c-c006bdd92531",
   "metadata": {},
   "source": [
    "# Addition into List"
   ]
  },
  {
   "cell_type": "code",
   "execution_count": 26,
   "id": "e869c686-fcac-4424-847d-cb868acec6c6",
   "metadata": {},
   "outputs": [],
   "source": [
    "#l.method : Once the method was executed, the output will be stored automatically in the Original"
   ]
  },
  {
   "cell_type": "code",
   "execution_count": 27,
   "id": "cf7ef82e-f673-4893-8451-f188143a9457",
   "metadata": {},
   "outputs": [
    {
     "data": {
      "text/plain": [
       "[1, '200', 3, 4]"
      ]
     },
     "execution_count": 27,
     "metadata": {},
     "output_type": "execute_result"
    }
   ],
   "source": [
    "l=[1,2,3,4]\n",
    "l[1]=\"200\"\n",
    "l"
   ]
  },
  {
   "cell_type": "code",
   "execution_count": 28,
   "id": "0fa59f2e-369b-4a16-879c-b8b757c94d8c",
   "metadata": {},
   "outputs": [],
   "source": [
    "l=[1,2,3,4]"
   ]
  },
  {
   "cell_type": "markdown",
   "id": "58a825a2-9f95-4c86-aa2e-c924eb43d4ec",
   "metadata": {},
   "source": [
    "- l.append(single item) --> it will add item at end of l\n",
    "- l.extend(multiple item) --> it will each item need to be in list at the end\n",
    "- l.insert(index, item) ---> it will add item at specific index location"
   ]
  },
  {
   "cell_type": "code",
   "execution_count": 29,
   "id": "3e0f73ec-abc2-4208-8247-6299700673f2",
   "metadata": {},
   "outputs": [],
   "source": [
    "l.append(5)"
   ]
  },
  {
   "cell_type": "code",
   "execution_count": 30,
   "id": "6684157e-2a96-4aea-8852-d1b38b1fb7e9",
   "metadata": {},
   "outputs": [
    {
     "name": "stdout",
     "output_type": "stream",
     "text": [
      "[1, 2, 3, 4, 5]\n"
     ]
    }
   ],
   "source": [
    "print(l)"
   ]
  },
  {
   "cell_type": "code",
   "execution_count": 31,
   "id": "2e924d83-d200-4f9b-8932-d150a4b5b759",
   "metadata": {},
   "outputs": [],
   "source": [
    "# try single item wil all data type, int, float, str, list"
   ]
  },
  {
   "cell_type": "code",
   "execution_count": 32,
   "id": "42a3e73f-6dba-44e1-b3a2-ba4410714e0f",
   "metadata": {},
   "outputs": [],
   "source": [
    "l.extend([1.2,3,4])"
   ]
  },
  {
   "cell_type": "code",
   "execution_count": 33,
   "id": "a34e7861-c9fe-403f-a433-f956895a6126",
   "metadata": {
    "scrolled": true
   },
   "outputs": [],
   "source": [
    "l= [1, 2, 3, 4]"
   ]
  },
  {
   "cell_type": "code",
   "execution_count": 34,
   "id": "711b4123-40c3-4e04-8a47-c4342012b26e",
   "metadata": {},
   "outputs": [
    {
     "data": {
      "text/plain": [
       "[1, 2, 3, 5]"
      ]
     },
     "execution_count": 34,
     "metadata": {},
     "output_type": "execute_result"
    }
   ],
   "source": [
    "l[3]=5\n",
    "l"
   ]
  },
  {
   "cell_type": "code",
   "execution_count": 35,
   "id": "4f5b023d-e6c8-4ecd-bf0d-552b2bfaefb6",
   "metadata": {},
   "outputs": [
    {
     "data": {
      "text/plain": [
       "[1, 2, 'srk', 3, 5]"
      ]
     },
     "execution_count": 35,
     "metadata": {},
     "output_type": "execute_result"
    }
   ],
   "source": [
    "l.insert(2,\"srk\")\n",
    "l"
   ]
  },
  {
   "cell_type": "code",
   "execution_count": null,
   "id": "3452a3b0-4d74-40d9-8bad-e18d6b83521b",
   "metadata": {},
   "outputs": [],
   "source": []
  },
  {
   "cell_type": "code",
   "execution_count": 36,
   "id": "8cd87ed0-3695-47c1-a96d-2e2729171cc8",
   "metadata": {},
   "outputs": [
    {
     "data": {
      "text/plain": [
       "[1, 2, 'srk', 3, 5]"
      ]
     },
     "execution_count": 36,
     "metadata": {},
     "output_type": "execute_result"
    }
   ],
   "source": [
    "l"
   ]
  },
  {
   "cell_type": "markdown",
   "id": "d1c43b02-aff6-4d7e-a90b-f1b015d5b183",
   "metadata": {},
   "source": [
    "# Delete/Remove\n",
    "- l.remove() ---> It will remove 1 item in the list(if tis is available, other will be error)\n",
    "- l.pop() ---> it will remove based on index position\n",
    "- del l[Indexing/Sclicing]"
   ]
  },
  {
   "cell_type": "code",
   "execution_count": 37,
   "id": "cb50ab4e-bfbb-4222-886b-78c36a8a3c81",
   "metadata": {},
   "outputs": [
    {
     "data": {
      "text/plain": [
       "[1, 2, 'srk', 5, 3]"
      ]
     },
     "execution_count": 37,
     "metadata": {},
     "output_type": "execute_result"
    }
   ],
   "source": [
    "# l.remove() ---> It will remove 1 item in the list(if tis is available, other will be error)\n",
    "l=[1, 2, 'srk', 3, 5,3]\n",
    "l.remove(3)\n",
    "l"
   ]
  },
  {
   "cell_type": "code",
   "execution_count": 38,
   "id": "f0f6521a-1258-4867-bb94-e9b301c1453a",
   "metadata": {},
   "outputs": [
    {
     "ename": "ValueError",
     "evalue": "list.remove(x): x not in list",
     "output_type": "error",
     "traceback": [
      "\u001b[1;31m---------------------------------------------------------------------------\u001b[0m",
      "\u001b[1;31mValueError\u001b[0m                                Traceback (most recent call last)",
      "Cell \u001b[1;32mIn[38], line 1\u001b[0m\n\u001b[1;32m----> 1\u001b[0m l\u001b[38;5;241m.\u001b[39mremove(\u001b[38;5;241m42\u001b[39m)\n",
      "\u001b[1;31mValueError\u001b[0m: list.remove(x): x not in list"
     ]
    }
   ],
   "source": [
    "l.remove(42)"
   ]
  },
  {
   "cell_type": "code",
   "execution_count": null,
   "id": "3e95c8ab-89fc-4474-8a13-dff8a2b1470d",
   "metadata": {},
   "outputs": [],
   "source": [
    "# List.pop(): remove an item based on index number. By default, it selects the index number as -1\n",
    "l=[1, 2, 'srk', 3, 5,3]\n",
    "l.pop(4)\n",
    "l"
   ]
  },
  {
   "cell_type": "code",
   "execution_count": 17,
   "id": "6861b0f9-6baf-49c0-8ddc-1c135e4061bd",
   "metadata": {},
   "outputs": [
    {
     "name": "stdout",
     "output_type": "stream",
     "text": [
      "[]\n"
     ]
    }
   ],
   "source": [
    "#List. clear(): clear all items in a list and return an empty list \n",
    "l=[1, 2, 'srk', 3, 5,3]\n",
    "l.clear()\n",
    "print(l)"
   ]
  },
  {
   "cell_type": "code",
   "execution_count": 18,
   "id": "f7ceb546-5f2e-4ded-a88a-858b32c12efe",
   "metadata": {},
   "outputs": [
    {
     "name": "stdout",
     "output_type": "stream",
     "text": [
      "[1, 'srk', 3, 5, 3]\n"
     ]
    }
   ],
   "source": [
    "# List.del(): remove entire item based in an Object but with Slicing we have delete multiple values. If not item is given then it delete the entire Object. \n",
    "l=[1, 2, 'srk', 3, 5,3]\n",
    "del l[1]\n",
    "print(l)"
   ]
  },
  {
   "cell_type": "code",
   "execution_count": 39,
   "id": "25a4a7aa-f70d-4279-a106-f1460d84d716",
   "metadata": {},
   "outputs": [
    {
     "data": {
      "text/plain": [
       "2"
      ]
     },
     "execution_count": 39,
     "metadata": {},
     "output_type": "execute_result"
    }
   ],
   "source": [
    "# List. count(): Gives the count of items in the list. If not available, then its shows zero\n",
    "l=[1, 2, 'srk', 3, 5,3]\n",
    "l.count(3)"
   ]
  },
  {
   "cell_type": "code",
   "execution_count": 40,
   "id": "d7fa2155-0fb1-4b2a-8d2e-b4a989c7149f",
   "metadata": {},
   "outputs": [
    {
     "data": {
      "text/plain": [
       "[3, 5, 3, 'srk', 2, 1]"
      ]
     },
     "execution_count": 40,
     "metadata": {},
     "output_type": "execute_result"
    }
   ],
   "source": [
    "l=[1, 2, 'srk', 3, 5,3] # Reverse the list\n",
    "l.reverse()\n",
    "l"
   ]
  },
  {
   "cell_type": "code",
   "execution_count": 41,
   "id": "f93c6487-f16e-4d88-a8ea-20b797b03e8f",
   "metadata": {},
   "outputs": [
    {
     "data": {
      "text/plain": [
       "[1, 2, 3, 3.5, 4.5, 6]"
      ]
     },
     "execution_count": 41,
     "metadata": {},
     "output_type": "execute_result"
    }
   ],
   "source": [
    "l=[1, 2,6, 3,4.5,3.5] # Sort list in ascending order\n",
    "l.sort()\n",
    "l"
   ]
  },
  {
   "cell_type": "code",
   "execution_count": 42,
   "id": "de880eb5-694b-41f5-988d-87fe013aa59c",
   "metadata": {},
   "outputs": [
    {
     "data": {
      "text/plain": [
       "[6, 4.5, 3.5, 3, 2, 1]"
      ]
     },
     "execution_count": 42,
     "metadata": {},
     "output_type": "execute_result"
    }
   ],
   "source": [
    "l.sort(reverse=True) # Sort list in descending order\n",
    "l"
   ]
  },
  {
   "cell_type": "code",
   "execution_count": 43,
   "id": "5208eb6c-67ad-4146-b936-349855713c99",
   "metadata": {},
   "outputs": [
    {
     "ename": "TypeError",
     "evalue": "'<' not supported between instances of 'str' and 'int'",
     "output_type": "error",
     "traceback": [
      "\u001b[1;31m---------------------------------------------------------------------------\u001b[0m",
      "\u001b[1;31mTypeError\u001b[0m                                 Traceback (most recent call last)",
      "Cell \u001b[1;32mIn[43], line 2\u001b[0m\n\u001b[0;32m      1\u001b[0m l\u001b[38;5;241m=\u001b[39m[\u001b[38;5;241m1\u001b[39m, \u001b[38;5;241m2\u001b[39m, \u001b[38;5;124m'\u001b[39m\u001b[38;5;124msrk\u001b[39m\u001b[38;5;124m'\u001b[39m, \u001b[38;5;241m3\u001b[39m, \u001b[38;5;241m5\u001b[39m,\u001b[38;5;241m3\u001b[39m]\n\u001b[1;32m----> 2\u001b[0m l\u001b[38;5;241m.\u001b[39msort()\n\u001b[0;32m      3\u001b[0m l\n",
      "\u001b[1;31mTypeError\u001b[0m: '<' not supported between instances of 'str' and 'int'"
     ]
    }
   ],
   "source": [
    "l=[1, 2, 'srk', 3, 5,3]\n",
    "l.sort()\n",
    "l"
   ]
  },
  {
   "cell_type": "code",
   "execution_count": 61,
   "id": "f066cbd1-a95f-4386-9d59-bb0eca207594",
   "metadata": {},
   "outputs": [
    {
     "data": {
      "text/plain": [
       "[1, 2, 3, 3.5, 4.5, 6]"
      ]
     },
     "execution_count": 61,
     "metadata": {},
     "output_type": "execute_result"
    }
   ],
   "source": [
    "l=[1, 2,6, 3,4.5,3.5]\n",
    "l.sort()\n",
    "l"
   ]
  },
  {
   "cell_type": "code",
   "execution_count": 45,
   "id": "05634409-6e88-4395-8bc3-cf774a59850a",
   "metadata": {},
   "outputs": [
    {
     "name": "stdout",
     "output_type": "stream",
     "text": [
      "[1, 2, 6, 3, 4.5, 3.5]\n"
     ]
    }
   ],
   "source": [
    "l=[1, 2,6, 3,4.5,3.5] # Returns a new sorted list and doesn't change original l\n",
    "sorted(l)\n",
    "print(l)"
   ]
  },
  {
   "cell_type": "code",
   "execution_count": 46,
   "id": "921eeff3-17c8-42fd-b46d-3f6d7e12af76",
   "metadata": {},
   "outputs": [
    {
     "name": "stdout",
     "output_type": "stream",
     "text": [
      "[1, 2, 6, 3, 4.5, 3.5]\n"
     ]
    }
   ],
   "source": [
    "print(l)"
   ]
  },
  {
   "cell_type": "code",
   "execution_count": 14,
   "id": "722c458c-0780-4b25-bc69-4226ff01447f",
   "metadata": {},
   "outputs": [
    {
     "data": {
      "text/plain": [
       "2314617533248"
      ]
     },
     "execution_count": 14,
     "metadata": {},
     "output_type": "execute_result"
    }
   ],
   "source": [
    "a=[1,2,3,4]\n",
    "id(a)"
   ]
  },
  {
   "cell_type": "markdown",
   "id": "302c82dc-0c94-4a8b-b032-b89ab00e2ca1",
   "metadata": {},
   "source": [
    "## Deep Copy\n",
    "\n",
    "- It Copy all Items into a smae Object\n",
    "- Original and copied item indicate same Object\n",
    "- A=[1,3]\n",
    "- B=A\n",
    "- If you do ny Modification in Copied Object (B), it will be reflected in both A and B\n",
    "\n",
    "## Shallow Copy\n",
    " - It copy all items into new Object\n",
    " - Original & Copied indicates different Objects (id is not same)\n",
    " - A = [1,2]\n",
    " - B=A.copy()\n",
    " - If you do any modifcation in copied object(B), it will not be reflected in both A & B\n",
    "\n",
    "\t\n"
   ]
  },
  {
   "cell_type": "code",
   "execution_count": 15,
   "id": "ec31dc06-72ff-48f7-9c69-86519e880360",
   "metadata": {},
   "outputs": [],
   "source": [
    "b=a.copy() # shallow Copy"
   ]
  },
  {
   "cell_type": "code",
   "execution_count": 16,
   "id": "959eaccc-8ab2-44a3-96b9-f263264fc069",
   "metadata": {},
   "outputs": [
    {
     "name": "stdout",
     "output_type": "stream",
     "text": [
      "[1, 2, 3, 4]\n"
     ]
    },
    {
     "data": {
      "text/plain": [
       "2314617287616"
      ]
     },
     "execution_count": 16,
     "metadata": {},
     "output_type": "execute_result"
    }
   ],
   "source": [
    "print(b)\n",
    "id(b)"
   ]
  },
  {
   "cell_type": "code",
   "execution_count": 50,
   "id": "4272b18d-a714-4faf-80e1-cd76fcde509e",
   "metadata": {},
   "outputs": [
    {
     "name": "stdout",
     "output_type": "stream",
     "text": [
      "[1, 2, 3, 4]\n",
      "[1, 2, 3, 4, 5]\n"
     ]
    }
   ],
   "source": [
    "# Shallow Copy\n",
    "l=[1,2,3,4]\n",
    "b=l.copy()\n",
    "l.append(5)\n",
    "print(b)\n",
    "print(l)"
   ]
  },
  {
   "cell_type": "code",
   "execution_count": 6,
   "id": "010b30b3-9a37-42c7-8656-7c668cf99c20",
   "metadata": {},
   "outputs": [
    {
     "name": "stdout",
     "output_type": "stream",
     "text": [
      "[1, 2, 3, 4, 5]\n",
      "[1, 2, 3, 4, 5]\n"
     ]
    }
   ],
   "source": [
    "# Deep Copy\n",
    "l=[1,2,3,4]\n",
    "b=l\n",
    "l.append(5)\n",
    "print(b)\n",
    "print(l)"
   ]
  },
  {
   "cell_type": "code",
   "execution_count": 7,
   "id": "23e39457-0864-40c5-ba31-a3babbe4b4e6",
   "metadata": {},
   "outputs": [
    {
     "name": "stdout",
     "output_type": "stream",
     "text": [
      "[1, 2, 3, 4, 5]\n"
     ]
    }
   ],
   "source": [
    "print(l)"
   ]
  },
  {
   "cell_type": "code",
   "execution_count": 82,
   "id": "d86692f7-082a-403b-97ce-24977f3b8bdd",
   "metadata": {},
   "outputs": [
    {
     "name": "stdout",
     "output_type": "stream",
     "text": [
      "(0, 1)\n",
      "(1, 2)\n",
      "(2, 3)\n",
      "(3, 4)\n",
      "(4, 5)\n"
     ]
    }
   ],
   "source": [
    "for i in enumerate(l):\n",
    "    print(i)"
   ]
  },
  {
   "cell_type": "code",
   "execution_count": 88,
   "id": "5e26a472-fda3-4180-b8f9-0fefa1a97280",
   "metadata": {},
   "outputs": [
    {
     "name": "stdout",
     "output_type": "stream",
     "text": [
      "[1, 2, 3, 4, 5]\n"
     ]
    }
   ],
   "source": [
    "L1 = l\n",
    "print(L1)"
   ]
  },
  {
   "cell_type": "code",
   "execution_count": 96,
   "id": "473f71f2-cb8c-4c50-aed1-23e6d21b91ce",
   "metadata": {},
   "outputs": [],
   "source": [
    "L2=L1+l"
   ]
  },
  {
   "cell_type": "markdown",
   "id": "d64d58c0-334a-41fd-aa97-47c6e2673003",
   "metadata": {},
   "source": [
    "# All / Any\r",
    "**The all() method returns:**\n",
    "  \n",
    "- True - If all elements in a list are true\n",
    "- False - If any element in a list is false\n",
    "\n",
    "The any() function returns True if any element in the list is True. If not, any() returns False.lse."
   ]
  },
  {
   "cell_type": "code",
   "execution_count": 101,
   "id": "90443ecf-ed48-4e28-9fb9-2cbb55a93553",
   "metadata": {},
   "outputs": [],
   "source": [
    "\n",
    "L2.append(0)"
   ]
  },
  {
   "cell_type": "code",
   "execution_count": 102,
   "id": "4472b012-e609-4e88-a955-48f59b3e2ff2",
   "metadata": {},
   "outputs": [
    {
     "data": {
      "text/plain": [
       "True"
      ]
     },
     "execution_count": 102,
     "metadata": {},
     "output_type": "execute_result"
    }
   ],
   "source": [
    "any(L2)"
   ]
  },
  {
   "cell_type": "code",
   "execution_count": 69,
   "id": "1be42a82-b9f1-42d2-b4e7-df7479e05e36",
   "metadata": {},
   "outputs": [
    {
     "name": "stdout",
     "output_type": "stream",
     "text": [
      "[]\n"
     ]
    }
   ],
   "source": [
    "print(l)"
   ]
  },
  {
   "cell_type": "code",
   "execution_count": 70,
   "id": "bac46403-1a42-4c0c-817a-0f16ca472b1e",
   "metadata": {},
   "outputs": [
    {
     "data": {
      "text/plain": [
       "2747973198848"
      ]
     },
     "execution_count": 70,
     "metadata": {},
     "output_type": "execute_result"
    }
   ],
   "source": [
    "id(l)"
   ]
  },
  {
   "cell_type": "code",
   "execution_count": 64,
   "id": "aa837b9a-73cb-43ad-a0f7-daffb45827e3",
   "metadata": {},
   "outputs": [
    {
     "ename": "NameError",
     "evalue": "name 'l' is not defined",
     "output_type": "error",
     "traceback": [
      "\u001b[1;31m---------------------------------------------------------------------------\u001b[0m",
      "\u001b[1;31mNameError\u001b[0m                                 Traceback (most recent call last)",
      "Cell \u001b[1;32mIn[64], line 2\u001b[0m\n\u001b[0;32m      1\u001b[0m \u001b[38;5;28;01mdel\u001b[39;00m l\n\u001b[1;32m----> 2\u001b[0m \u001b[38;5;28mprint\u001b[39m(l)\n",
      "\u001b[1;31mNameError\u001b[0m: name 'l' is not defined"
     ]
    }
   ],
   "source": [
    "del l\n",
    "print(l)"
   ]
  },
  {
   "cell_type": "code",
   "execution_count": null,
   "id": "a373f365-8a53-4a58-b409-9ad67e10fb54",
   "metadata": {},
   "outputs": [],
   "source": [
    "id(l)"
   ]
  },
  {
   "cell_type": "code",
   "execution_count": 105,
   "id": "a92b5698-0e3b-4d7a-bceb-c7b9cc558c48",
   "metadata": {},
   "outputs": [
    {
     "name": "stdout",
     "output_type": "stream",
     "text": [
      "(0, 'apple')\n",
      "(1, 'banana')\n",
      "(2, 'cherry')\n"
     ]
    }
   ],
   "source": [
    "my_list = [\"apple\", \"banana\", \"cherry\"]\n",
    "\n",
    "for i in enumerate(my_list):\n",
    "    print(i)\n",
    "\n",
    "# Output:\n",
    "# Index: 0, Fruit: apple\n",
    "# Index: 1, Fruit: banana\n",
    "# Index: 2, Fruit: cherry"
   ]
  },
  {
   "cell_type": "markdown",
   "id": "2e939f7b-aa4f-43f6-8dc8-6ce24d473a7d",
   "metadata": {},
   "source": [
    "# List Indexing"
   ]
  },
  {
   "cell_type": "code",
   "execution_count": 13,
   "id": "f0ef3d0d-9e5c-45ae-ae0c-fcfed4544cda",
   "metadata": {},
   "outputs": [
    {
     "data": {
      "text/plain": [
       "[1, 2, 3, 4, 5, [1, 2, 3]]"
      ]
     },
     "execution_count": 13,
     "metadata": {},
     "output_type": "execute_result"
    }
   ],
   "source": [
    "l"
   ]
  },
  {
   "cell_type": "code",
   "execution_count": 11,
   "id": "606ac948-ecb5-4b86-be61-f9d765dbe29f",
   "metadata": {},
   "outputs": [
    {
     "data": {
      "text/plain": [
       "1"
      ]
     },
     "execution_count": 11,
     "metadata": {},
     "output_type": "execute_result"
    }
   ],
   "source": [
    "l[0] # Retreive first element of the list"
   ]
  },
  {
   "cell_type": "code",
   "execution_count": 12,
   "id": "675674fc-6775-4db4-81d1-c4ca962be504",
   "metadata": {},
   "outputs": [],
   "source": [
    "l.append([1,2,3])"
   ]
  },
  {
   "cell_type": "code",
   "execution_count": 15,
   "id": "2c69bb83-218e-49f5-9729-23159a6b8eae",
   "metadata": {},
   "outputs": [
    {
     "data": {
      "text/plain": [
       "3"
      ]
     },
     "execution_count": 15,
     "metadata": {},
     "output_type": "execute_result"
    }
   ],
   "source": [
    "l[-1][-1] # Nested indexing - Access the first character of the first list element"
   ]
  },
  {
   "cell_type": "markdown",
   "id": "11f6092c-e314-4c03-8b9e-33ab7a19a006",
   "metadata": {},
   "source": [
    "# List Slicing"
   ]
  },
  {
   "cell_type": "code",
   "execution_count": 16,
   "id": "1724636c-5822-4d57-b722-ebfd25a47c96",
   "metadata": {},
   "outputs": [],
   "source": [
    "mylist = ['one' , 'two' , 'three' , 'four' , 'five' , 'six' , 'seven' , 'eight']"
   ]
  },
  {
   "cell_type": "code",
   "execution_count": 17,
   "id": "3164271c-4c53-4813-92e8-cbf496f03208",
   "metadata": {},
   "outputs": [
    {
     "data": {
      "text/plain": [
       "['one', 'two', 'three']"
      ]
     },
     "execution_count": 17,
     "metadata": {},
     "output_type": "execute_result"
    }
   ],
   "source": [
    "mylist[0:3] # Return all items from 0th to 3rd index location excluding the item"
   ]
  },
  {
   "cell_type": "code",
   "execution_count": 18,
   "id": "23bbb070-cd63-4164-8d2d-fcb1d8c51467",
   "metadata": {},
   "outputs": [
    {
     "data": {
      "text/plain": [
       "['three', 'four', 'five']"
      ]
     },
     "execution_count": 18,
     "metadata": {},
     "output_type": "execute_result"
    }
   ],
   "source": [
    "mylist[2:5] # List all items from 2nd to 5th index location excluding the item a"
   ]
  },
  {
   "cell_type": "code",
   "execution_count": 19,
   "id": "243ae850-e0e9-44de-bad7-093843378ad0",
   "metadata": {},
   "outputs": [
    {
     "data": {
      "text/plain": [
       "['one', 'two', 'three']"
      ]
     },
     "execution_count": 19,
     "metadata": {},
     "output_type": "execute_result"
    }
   ],
   "source": [
    "mylist[:3] # Return first three items"
   ]
  },
  {
   "cell_type": "code",
   "execution_count": 20,
   "id": "580b4ec3-1ac0-430a-9886-1f5126d94697",
   "metadata": {},
   "outputs": [
    {
     "data": {
      "text/plain": [
       "['six', 'seven', 'eight']"
      ]
     },
     "execution_count": 20,
     "metadata": {},
     "output_type": "execute_result"
    }
   ],
   "source": [
    "mylist[-3:] # Return last three items"
   ]
  },
  {
   "cell_type": "code",
   "execution_count": 21,
   "id": "5a64017b-b7af-4653-aab0-d7fa51b905f1",
   "metadata": {},
   "outputs": [
    {
     "data": {
      "text/plain": [
       "['one', 'two', 'three', 'four', 'five', 'six', 'seven', 'eight']"
      ]
     },
     "execution_count": 21,
     "metadata": {},
     "output_type": "execute_result"
    }
   ],
   "source": [
    "mylist[:] # Return whole list"
   ]
  },
  {
   "cell_type": "markdown",
   "id": "6642bdcd-2b7f-4ad5-83eb-72352f4966fe",
   "metadata": {},
   "source": [
    "# Join Lists "
   ]
  },
  {
   "cell_type": "code",
   "execution_count": 25,
   "id": "6a2434c8-c399-4af5-9c48-e01cff8a4b33",
   "metadata": {},
   "outputs": [],
   "source": [
    "list1 = ['one', 'two', 'three', 'four']\n",
    "list2 = ['five', 'six', 'seven', 'eight']"
   ]
  },
  {
   "cell_type": "code",
   "execution_count": 26,
   "id": "a994373c-ab99-4c0b-8523-26cf296dd8f2",
   "metadata": {},
   "outputs": [
    {
     "data": {
      "text/plain": [
       "['one', 'two', 'three', 'four', 'five', 'six', 'seven', 'eight']"
      ]
     },
     "execution_count": 26,
     "metadata": {},
     "output_type": "execute_result"
    }
   ],
   "source": [
    "list3 = list1 + list2 # Join two lists by '+' operator\n",
    "list3"
   ]
  },
  {
   "cell_type": "markdown",
   "id": "4950080f-8261-4940-bd5e-04797f9f189c",
   "metadata": {},
   "source": [
    "# List Membership"
   ]
  },
  {
   "cell_type": "code",
   "execution_count": 27,
   "id": "2403216f-4dc3-4e36-bb01-c0c5c836b2b2",
   "metadata": {},
   "outputs": [
    {
     "data": {
      "text/plain": [
       "True"
      ]
     },
     "execution_count": 27,
     "metadata": {},
     "output_type": "execute_result"
    }
   ],
   "source": [
    "'one' in list1 # Check if 'one' exist in the list"
   ]
  },
  {
   "cell_type": "code",
   "execution_count": 28,
   "id": "890c3fd2-9012-4623-a834-e092b0741608",
   "metadata": {},
   "outputs": [
    {
     "data": {
      "text/plain": [
       "False"
      ]
     },
     "execution_count": 28,
     "metadata": {},
     "output_type": "execute_result"
    }
   ],
   "source": [
    "'ten' in list1 # Check if 'ten' exist in the list"
   ]
  },
  {
   "cell_type": "code",
   "execution_count": 34,
   "id": "09f8f309-0bd7-47b0-8514-75dfb5ccbf8b",
   "metadata": {},
   "outputs": [
    {
     "name": "stdout",
     "output_type": "stream",
     "text": [
      "Three is present in the list\n"
     ]
    }
   ],
   "source": [
    "# This is similar to If else Statement\n",
    "\n",
    "if 'three' in list1: # Check if 'three' exist in the list\n",
    "    print('Three is present in the list')\n",
    "else:\n",
    "    print('Three is not present in the list')"
   ]
  },
  {
   "cell_type": "markdown",
   "id": "115cd5fc-dfab-430f-b5da-8f4ff1ccfa5a",
   "metadata": {},
   "source": [
    "# All / Any\n",
    "\n",
    "### The all() method returns:\n",
    "        True - If all elements in a list are true\n",
    "        False - If any element in a list is false\n",
    "\n",
    "### The any() function returns True if any element in the list is True. If not, any() returns False.\n"
   ]
  },
  {
   "cell_type": "code",
   "execution_count": 35,
   "id": "0a0a3f14-389f-49a1-b67a-b58915382e17",
   "metadata": {},
   "outputs": [
    {
     "data": {
      "text/plain": [
       "False"
      ]
     },
     "execution_count": 35,
     "metadata": {},
     "output_type": "execute_result"
    }
   ],
   "source": [
    "L1 = [1,2,3,4,0] # Will Return false as one value is false (i.e. Value 0)\n",
    "all(L1)"
   ]
  },
  {
   "cell_type": "code",
   "execution_count": 36,
   "id": "47089032-1003-44a7-bc9e-af2bf172ea2b",
   "metadata": {},
   "outputs": [
    {
     "data": {
      "text/plain": [
       "True"
      ]
     },
     "execution_count": 36,
     "metadata": {},
     "output_type": "execute_result"
    }
   ],
   "source": [
    "L1 = [1,2,3,4] # Will Return True as no value is false \n",
    "all(L1)"
   ]
  },
  {
   "cell_type": "code",
   "execution_count": 37,
   "id": "1aa930a6-8177-4718-be2d-72831a38d196",
   "metadata": {},
   "outputs": [
    {
     "data": {
      "text/plain": [
       "False"
      ]
     },
     "execution_count": 37,
     "metadata": {},
     "output_type": "execute_result"
    }
   ],
   "source": [
    "L2 = [1,2,3,4,True,False]\n",
    "all(L2) # Returns false as one value is false"
   ]
  },
  {
   "cell_type": "code",
   "execution_count": null,
   "id": "fe19f519-f3cf-4dc2-9082-d924cbe32edb",
   "metadata": {},
   "outputs": [],
   "source": []
  }
 ],
 "metadata": {
  "kernelspec": {
   "display_name": "Python 3 (ipykernel)",
   "language": "python",
   "name": "python3"
  },
  "language_info": {
   "codemirror_mode": {
    "name": "ipython",
    "version": 3
   },
   "file_extension": ".py",
   "mimetype": "text/x-python",
   "name": "python",
   "nbconvert_exporter": "python",
   "pygments_lexer": "ipython3",
   "version": "3.13.5"
  }
 },
 "nbformat": 4,
 "nbformat_minor": 5
}
