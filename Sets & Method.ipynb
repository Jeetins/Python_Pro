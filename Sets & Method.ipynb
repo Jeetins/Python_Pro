{
 "cells": [
  {
   "cell_type": "markdown",
   "id": "77b5030c-49a5-418b-9b6c-ae558e991c58",
   "metadata": {},
   "source": [
    "# Sets\n",
    "- set can be used to perform\n",
    "- A Set is an unordered collection of items\n",
    "- Set is defined by items separated by comma inside braces{}\n",
    "- Set can store only immutable items. "
   ]
  },
  {
   "cell_type": "code",
   "execution_count": 1,
   "id": "07d75978-79c1-4bda-9dab-68b060e56a3e",
   "metadata": {},
   "outputs": [],
   "source": [
    "# Empty set will be printed as set()"
   ]
  },
  {
   "cell_type": "code",
   "execution_count": 1,
   "id": "f0e492b3-56e8-47be-95fd-17cedf880058",
   "metadata": {},
   "outputs": [
    {
     "name": "stdout",
     "output_type": "stream",
     "text": [
      "set()\n"
     ]
    },
    {
     "data": {
      "text/plain": [
       "set"
      ]
     },
     "execution_count": 1,
     "metadata": {},
     "output_type": "execute_result"
    }
   ],
   "source": [
    "s = set()\n",
    "print(s)\n",
    "type(s)"
   ]
  },
  {
   "cell_type": "code",
   "execution_count": 2,
   "id": "fa0ea6a3-d1f8-466a-8f2e-ee919cc8c494",
   "metadata": {},
   "outputs": [
    {
     "name": "stdout",
     "output_type": "stream",
     "text": [
      "{10, 203, 12, 20}\n"
     ]
    },
    {
     "data": {
      "text/plain": [
       "set"
      ]
     },
     "execution_count": 2,
     "metadata": {},
     "output_type": "execute_result"
    }
   ],
   "source": [
    "s= {10,12,203,20}\n",
    "print(s)\n",
    "type(s)"
   ]
  },
  {
   "cell_type": "code",
   "execution_count": 8,
   "id": "706a502e-7912-4ae4-aeec-e366e9995f1a",
   "metadata": {},
   "outputs": [
    {
     "name": "stdout",
     "output_type": "stream",
     "text": [
      "{1, 2.5, 'Jeetin'}\n"
     ]
    }
   ],
   "source": [
    "s= {1,2.5,True,\"Jeetin\"}\n",
    "print(s)"
   ]
  },
  {
   "cell_type": "code",
   "execution_count": 3,
   "id": "e081cf7e-6932-4e30-8409-fde9121d3c0c",
   "metadata": {},
   "outputs": [
    {
     "ename": "TypeError",
     "evalue": "unhashable type: 'list'",
     "output_type": "error",
     "traceback": [
      "\u001b[31m---------------------------------------------------------------------------\u001b[39m",
      "\u001b[31mTypeError\u001b[39m                                 Traceback (most recent call last)",
      "\u001b[36mCell\u001b[39m\u001b[36m \u001b[39m\u001b[32mIn[3]\u001b[39m\u001b[32m, line 1\u001b[39m\n\u001b[32m----> \u001b[39m\u001b[32m1\u001b[39m s = {\u001b[32m10\u001b[39m,\u001b[32m1.4\u001b[39m,\u001b[38;5;28;01mTrue\u001b[39;00m,\u001b[33m\"\u001b[39m\u001b[33msrk\u001b[39m\u001b[33m\"\u001b[39m,(\u001b[32m12\u001b[39m,\u001b[32m13\u001b[39m,\u001b[32m2\u001b[39m,\u001b[32m3\u001b[39m),[\u001b[32m1\u001b[39m,\u001b[32m2\u001b[39m]} \u001b[38;5;66;03m# can't add mutable item in  like Tuple and list\u001b[39;00m\n\u001b[32m      2\u001b[39m \u001b[38;5;28mprint\u001b[39m(s)\n",
      "\u001b[31mTypeError\u001b[39m: unhashable type: 'list'"
     ]
    }
   ],
   "source": [
    "s = {10,1.4,True,\"srk\",(12,13,2,3),[1,2]} # can't add mutable item in  like Tuple and list\n",
    "print(s)"
   ]
  },
  {
   "cell_type": "code",
   "execution_count": 11,
   "id": "52c1995b-1182-4f2b-95ee-379b7bf29199",
   "metadata": {},
   "outputs": [
    {
     "name": "stdout",
     "output_type": "stream",
     "text": [
      "{1, 2, 3, 4}\n"
     ]
    }
   ],
   "source": [
    "S= {1,2,3,4,3,4,3} # Remove the Duplicates. Every Item is Unique\n",
    "print(S)"
   ]
  },
  {
   "cell_type": "code",
   "execution_count": 10,
   "id": "bea3185c-2fae-45b9-9672-892274df34fd",
   "metadata": {},
   "outputs": [],
   "source": [
    "# Set doesn't support indexing, because it's unorder collection and Remove Duplicate"
   ]
  },
  {
   "cell_type": "markdown",
   "id": "e5982ed7-a95c-4f64-a4af-545a2d65ff45",
   "metadata": {},
   "source": [
    "# Set Method\n",
    "* set.add()\n",
    "-add Method adds an one item to the set. If the item already exist in the "
   ]
  },
  {
   "cell_type": "code",
   "execution_count": 11,
   "id": "680df480-8791-466b-9e17-c7fd44ee1870",
   "metadata": {},
   "outputs": [
    {
     "name": "stdout",
     "output_type": "stream",
     "text": [
      "{1, 2, 3, 4}\n"
     ]
    }
   ],
   "source": [
    "s= {1,2,3}\n",
    "s.add(4)\n",
    "print(s)"
   ]
  },
  {
   "cell_type": "code",
   "execution_count": 13,
   "id": "4fec8236-9177-4687-96d2-cb95b11a5518",
   "metadata": {},
   "outputs": [
    {
     "data": {
      "text/plain": [
       "{1, 2, 3, 20, 55}"
      ]
     },
     "execution_count": 13,
     "metadata": {},
     "output_type": "execute_result"
    }
   ],
   "source": [
    "s={1,2,3}\n",
    "s.add(20)\n",
    "s.add(55)\n",
    "s"
   ]
  },
  {
   "cell_type": "code",
   "execution_count": 12,
   "id": "6b075ccf-64ed-47da-907e-73d416a2d97a",
   "metadata": {},
   "outputs": [],
   "source": [
    "# set.update()\n",
    "#Udpate method update wthe set with another set or any iterable. this should be added with list of items"
   ]
  },
  {
   "cell_type": "code",
   "execution_count": 14,
   "id": "9ccf309e-8783-4949-8a02-33c701380c89",
   "metadata": {},
   "outputs": [
    {
     "data": {
      "text/plain": [
       "{1, 2, 3, 20, 34, 55}"
      ]
     },
     "execution_count": 14,
     "metadata": {},
     "output_type": "execute_result"
    }
   ],
   "source": [
    "s={1,2,3}\n",
    "s.update([20,55,34])\n",
    "s"
   ]
  },
  {
   "cell_type": "code",
   "execution_count": 1,
   "id": "267c609f-c2ba-40cf-8b43-3a1882992d64",
   "metadata": {},
   "outputs": [
    {
     "name": "stdout",
     "output_type": "stream",
     "text": [
      "{1, 2, 3, 4, (6, 7)}\n"
     ]
    }
   ],
   "source": [
    "s={1,2,3,4}\n",
    "s.add((6,7))\n",
    "print(s)"
   ]
  },
  {
   "cell_type": "code",
   "execution_count": 3,
   "id": "824f4e3e-07fc-48af-b2be-190247571350",
   "metadata": {},
   "outputs": [
    {
     "name": "stdout",
     "output_type": "stream",
     "text": [
      "{1, 2, 3, 4, 6, 7}\n"
     ]
    }
   ],
   "source": [
    "s={1,2,3,4}\n",
    "s.update((6,7))\n",
    "print(s)"
   ]
  },
  {
   "cell_type": "code",
   "execution_count": 17,
   "id": "8f6b36fc-03bb-4314-bdfa-213d4422cc1b",
   "metadata": {},
   "outputs": [],
   "source": [
    "#Set.discard()\n",
    "# Discard method remove the specified item for the set. If the Itm doesn't exist in the set , a key error is raised. "
   ]
  },
  {
   "cell_type": "code",
   "execution_count": 19,
   "id": "51ac515b-85bc-4712-93f2-9287bf20bfa6",
   "metadata": {},
   "outputs": [
    {
     "name": "stdout",
     "output_type": "stream",
     "text": [
      "{1, 34, 4}\n"
     ]
    }
   ],
   "source": [
    "s = {1,3,34,4}\n",
    "s.remove(3)\n",
    "print (s)"
   ]
  },
  {
   "cell_type": "code",
   "execution_count": 20,
   "id": "ee5b948d-d509-4404-a95c-534b14404d84",
   "metadata": {},
   "outputs": [
    {
     "ename": "KeyError",
     "evalue": "3",
     "output_type": "error",
     "traceback": [
      "\u001b[1;31m---------------------------------------------------------------------------\u001b[0m",
      "\u001b[1;31mKeyError\u001b[0m                                  Traceback (most recent call last)",
      "Cell \u001b[1;32mIn[20], line 2\u001b[0m\n\u001b[0;32m      1\u001b[0m s \u001b[38;5;241m=\u001b[39m {\u001b[38;5;241m1\u001b[39m,\u001b[38;5;241m34\u001b[39m,\u001b[38;5;241m4\u001b[39m} \u001b[38;5;66;03m# Item is not avialbe it will send error. \u001b[39;00m\n\u001b[1;32m----> 2\u001b[0m s\u001b[38;5;241m.\u001b[39mremove(\u001b[38;5;241m3\u001b[39m)\n\u001b[0;32m      3\u001b[0m \u001b[38;5;28mprint\u001b[39m (s)\n",
      "\u001b[1;31mKeyError\u001b[0m: 3"
     ]
    }
   ],
   "source": [
    "s = {1,34,4} # Item is not avialbe it will send error. \n",
    "s.remove(3)\n",
    "print (s)"
   ]
  },
  {
   "cell_type": "code",
   "execution_count": 22,
   "id": "ec3562a7-e88f-4178-8bde-f6b27c63083f",
   "metadata": {},
   "outputs": [
    {
     "name": "stdout",
     "output_type": "stream",
     "text": [
      "{1, 34, 4}\n"
     ]
    }
   ],
   "source": [
    "s = {1,34,4} # Item is not avialbe it will not show error\n",
    "\n",
    "s.discard(3)\n",
    "print (s)"
   ]
  },
  {
   "cell_type": "markdown",
   "id": "a5a7345e-1ba5-4a22-b4af-a43fadb76aca",
   "metadata": {},
   "source": [
    "### Set.clear()\n",
    "- Clear method remove all the element from the set. "
   ]
  },
  {
   "cell_type": "markdown",
   "id": "27d0e73e-8a0c-4bd3-ba40-85639b147e4f",
   "metadata": {},
   "source": [
    "Interview Question\n",
    "\n",
    "1. Difference between set.add Vs Set.Update\n",
    "2. What is the difference between set.discard Vs Set.remove\n",
    "3. Difference b/w set.clear Vs Del set()Variable\n",
    "4. Shallow Copy and Deep Copy in the sets. \n",
    "5. Difference b/w list Vs Tuple Vs Set"
   ]
  },
  {
   "cell_type": "markdown",
   "id": "1637421a-7c61-4803-b0ca-e200e3b00340",
   "metadata": {},
   "source": [
    "### Set. copy()\n",
    "- Copy method returns a shallow copy of the set. \n",
    "- changes to the copied set doesn't affect the original set. "
   ]
  },
  {
   "cell_type": "code",
   "execution_count": 31,
   "id": "0cb9d8be-8cff-4cf5-be62-35c72b1a2e8b",
   "metadata": {},
   "outputs": [
    {
     "name": "stdout",
     "output_type": "stream",
     "text": [
      "set()\n"
     ]
    }
   ],
   "source": [
    "s = {1,34,4}\n",
    "s.clear()\n",
    "print (s)"
   ]
  },
  {
   "cell_type": "code",
   "execution_count": 36,
   "id": "f216a907-d880-4bd7-8d14-f9ecde540291",
   "metadata": {},
   "outputs": [
    {
     "ename": "NameError",
     "evalue": "name 's' is not defined",
     "output_type": "error",
     "traceback": [
      "\u001b[1;31m---------------------------------------------------------------------------\u001b[0m",
      "\u001b[1;31mNameError\u001b[0m                                 Traceback (most recent call last)",
      "Cell \u001b[1;32mIn[36], line 3\u001b[0m\n\u001b[0;32m      1\u001b[0m s \u001b[38;5;241m=\u001b[39m {\u001b[38;5;241m1\u001b[39m,\u001b[38;5;241m34\u001b[39m,\u001b[38;5;241m4\u001b[39m}\n\u001b[0;32m      2\u001b[0m \u001b[38;5;28;01mdel\u001b[39;00m s   \u001b[38;5;66;03m# Since this is delete that the reason it shows the S is not defined. \u001b[39;00m\n\u001b[1;32m----> 3\u001b[0m \u001b[38;5;28mprint\u001b[39m (s)\n",
      "\u001b[1;31mNameError\u001b[0m: name 's' is not defined"
     ]
    }
   ],
   "source": [
    "s = {1,34,4}\n",
    "del s   # Since this is delete that the reason it shows the S is not defined. \n",
    "print (s)"
   ]
  },
  {
   "cell_type": "code",
   "execution_count": 6,
   "id": "b7c98e15-3889-47ed-bcb0-6633e5de1aa1",
   "metadata": {},
   "outputs": [
    {
     "name": "stdout",
     "output_type": "stream",
     "text": [
      "{1, 2, 3} {1, 2, 3, 4}\n"
     ]
    }
   ],
   "source": [
    "s1={1,2,3}\n",
    "s2=s1.copy()\n",
    "s2.add(4)\n",
    "print(s1,s2)"
   ]
  },
  {
   "cell_type": "code",
   "execution_count": 18,
   "id": "8265360d-8ab7-4528-adc8-17950a5f69aa",
   "metadata": {},
   "outputs": [
    {
     "name": "stdout",
     "output_type": "stream",
     "text": [
      "{1, 2, 3, 9, 10} {1, 2, 3, 4, 5, 6, 7, 9, 10}\n"
     ]
    }
   ],
   "source": [
    "s1={1,2,3,9,10}\n",
    "s2=s1.copy()\n",
    "s2.update([4,5,6,7])\n",
    "print(s1,s2)"
   ]
  },
  {
   "cell_type": "markdown",
   "id": "bac128ff-508d-4ef2-9aa4-75f3659f58b1",
   "metadata": {},
   "source": [
    "# Set Operations"
   ]
  },
  {
   "cell_type": "code",
   "execution_count": 23,
   "id": "d64271c2-8a3b-4f86-bbce-6efea684a3c3",
   "metadata": {},
   "outputs": [
    {
     "data": {
      "text/plain": [
       "{1, 2, 3, 4, 5, 6, 7}"
      ]
     },
     "execution_count": 23,
     "metadata": {},
     "output_type": "execute_result"
    }
   ],
   "source": [
    "s2.union(s1)"
   ]
  },
  {
   "cell_type": "code",
   "execution_count": 24,
   "id": "f5b5ced4-eb7d-49ab-92ee-c6a5c999a111",
   "metadata": {},
   "outputs": [
    {
     "data": {
      "text/plain": [
       "{2, 3, 4}"
      ]
     },
     "execution_count": 24,
     "metadata": {},
     "output_type": "execute_result"
    }
   ],
   "source": [
    "s1={1,2,3,4}\n",
    "s2={2,3,4,5,6,7}\n",
    "s2.intersection(s1)"
   ]
  },
  {
   "cell_type": "code",
   "execution_count": 25,
   "id": "88ed2d84-2eaa-491d-9561-a6d2e1f8abcb",
   "metadata": {},
   "outputs": [
    {
     "data": {
      "text/plain": [
       "{1, 5, 6, 7}"
      ]
     },
     "execution_count": 25,
     "metadata": {},
     "output_type": "execute_result"
    }
   ],
   "source": [
    "s2.union(s1)-s2.intersection(s1)"
   ]
  },
  {
   "cell_type": "code",
   "execution_count": 19,
   "id": "11a75cde-053b-42e4-a8cc-3b959b2ca2b0",
   "metadata": {},
   "outputs": [
    {
     "name": "stdout",
     "output_type": "stream",
     "text": [
      "{1, 2, 3, 4, 5, 6, 7, 9, 10}\n"
     ]
    }
   ],
   "source": [
    "print (s2)"
   ]
  },
  {
   "cell_type": "code",
   "execution_count": 13,
   "id": "63475361-bec2-4c3a-aa6c-34ea53f1edf0",
   "metadata": {},
   "outputs": [
    {
     "data": {
      "text/plain": [
       "True"
      ]
     },
     "execution_count": 13,
     "metadata": {},
     "output_type": "execute_result"
    }
   ],
   "source": [
    "s1={1,2,3,4}\n",
    "s2={5,6,7}\n",
    "s2.isdisjoint(s1)"
   ]
  },
  {
   "cell_type": "code",
   "execution_count": 14,
   "id": "7c684a4b-c7b7-4f3d-b092-ffeccae0f8a3",
   "metadata": {},
   "outputs": [
    {
     "name": "stdout",
     "output_type": "stream",
     "text": [
      "{1, 4}\n",
      "{5}\n"
     ]
    }
   ],
   "source": [
    "s1= {1,2,3,4}\n",
    "s2={2,3,5}\n",
    "print(s1-s2) # Within setA remove the SetB items\n",
    "print(s2-s1) # within SetB remove the SetA items. "
   ]
  },
  {
   "cell_type": "code",
   "execution_count": 5,
   "id": "a7eaeb43-ed36-4081-9532-17c9d362d668",
   "metadata": {},
   "outputs": [
    {
     "data": {
      "text/plain": [
       "{1, 'Jeetin'}"
      ]
     },
     "execution_count": 5,
     "metadata": {},
     "output_type": "execute_result"
    }
   ],
   "source": [
    "setA = {1,2,3,4,\"Jeetin\"} # # Symmetric difference (Set of elements in A and B but not in both. \n",
    "setB = {2,3,4}\n",
    "setA.symmetric_difference(setB)"
   ]
  },
  {
   "cell_type": "code",
   "execution_count": 6,
   "id": "6ba235c5-d86b-4e0f-9b5f-23983d09942c",
   "metadata": {},
   "outputs": [
    {
     "name": "stdout",
     "output_type": "stream",
     "text": [
      "True\n"
     ]
    }
   ],
   "source": [
    "A = {3,4,5} # Set A is said to be the subset of set B if all elements of A are available in B\n",
    "B= {1,2,3,4,5}\n",
    "\n",
    "C=A.issubset(B)\n",
    "print(C)"
   ]
  },
  {
   "cell_type": "code",
   "execution_count": 33,
   "id": "18052c1a-2762-460b-84a6-f4c0b6d8ca79",
   "metadata": {},
   "outputs": [
    {
     "name": "stdout",
     "output_type": "stream",
     "text": [
      "True\n"
     ]
    }
   ],
   "source": [
    "A = {3,4,5}  # Set B is said to be the superset of set A if all elements of A are available in B\n",
    "B= {1,2,3,4,5}\n",
    "\n",
    "C=B.issuperset(A)\n",
    "print(C)"
   ]
  },
  {
   "cell_type": "code",
   "execution_count": 34,
   "id": "c34a0acd-eb24-44d7-beae-5696c5136415",
   "metadata": {},
   "outputs": [
    {
     "ename": "AttributeError",
     "evalue": "'list' object has no attribute 'issuperset'",
     "output_type": "error",
     "traceback": [
      "\u001b[1;31m---------------------------------------------------------------------------\u001b[0m",
      "\u001b[1;31mAttributeError\u001b[0m                            Traceback (most recent call last)",
      "Cell \u001b[1;32mIn[34], line 4\u001b[0m\n\u001b[0;32m      1\u001b[0m A \u001b[38;5;241m=\u001b[39m [\u001b[38;5;241m3\u001b[39m,\u001b[38;5;241m4\u001b[39m,\u001b[38;5;241m5\u001b[39m]\n\u001b[0;32m      2\u001b[0m B\u001b[38;5;241m=\u001b[39m [\u001b[38;5;241m1\u001b[39m,\u001b[38;5;241m2\u001b[39m,\u001b[38;5;241m3\u001b[39m,\u001b[38;5;241m4\u001b[39m,\u001b[38;5;241m5\u001b[39m]\n\u001b[1;32m----> 4\u001b[0m C\u001b[38;5;241m=\u001b[39mB\u001b[38;5;241m.\u001b[39missuperset(A)\n\u001b[0;32m      5\u001b[0m \u001b[38;5;28mprint\u001b[39m(C)\n",
      "\u001b[1;31mAttributeError\u001b[0m: 'list' object has no attribute 'issuperset'"
     ]
    }
   ],
   "source": [
    "A = [3,4,5]\n",
    "B= [1,2,3,4,5]\n",
    "\n",
    "C=B.issuperset(A)\n",
    "print(C)"
   ]
  },
  {
   "cell_type": "code",
   "execution_count": 1,
   "id": "93d053c5-f6c9-41ef-9b06-b7054b8cc312",
   "metadata": {},
   "outputs": [
    {
     "name": "stdout",
     "output_type": "stream",
     "text": [
      "<class 'NoneType'>\n"
     ]
    }
   ],
   "source": [
    "x = None\n",
    "print(type(x))"
   ]
  },
  {
   "cell_type": "code",
   "execution_count": 2,
   "id": "9e0b8f28-d21b-478a-b592-557af5450cd8",
   "metadata": {},
   "outputs": [
    {
     "data": {
      "text/plain": [
       "False"
      ]
     },
     "execution_count": 2,
     "metadata": {},
     "output_type": "execute_result"
    }
   ],
   "source": [
    "bool(\"\")"
   ]
  },
  {
   "cell_type": "code",
   "execution_count": 3,
   "id": "3b051b4f-0207-46d9-b931-c9202dedc1bd",
   "metadata": {},
   "outputs": [
    {
     "data": {
      "text/plain": [
       "False"
      ]
     },
     "execution_count": 3,
     "metadata": {},
     "output_type": "execute_result"
    }
   ],
   "source": [
    "a={1,2,3,4,5}\n",
    "b={2,3,6}\n",
    "b.issubset(a)"
   ]
  },
  {
   "cell_type": "code",
   "execution_count": null,
   "id": "3d0f9185-9fc1-46c0-aae2-420fbc74f4c9",
   "metadata": {},
   "outputs": [],
   "source": []
  }
 ],
 "metadata": {
  "kernelspec": {
   "display_name": "Python 3 (ipykernel)",
   "language": "python",
   "name": "python3"
  },
  "language_info": {
   "codemirror_mode": {
    "name": "ipython",
    "version": 3
   },
   "file_extension": ".py",
   "mimetype": "text/x-python",
   "name": "python",
   "nbconvert_exporter": "python",
   "pygments_lexer": "ipython3",
   "version": "3.13.5"
  }
 },
 "nbformat": 4,
 "nbformat_minor": 5
}
