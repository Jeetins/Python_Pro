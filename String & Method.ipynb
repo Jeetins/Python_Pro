{
 "cells": [
  {
   "cell_type": "markdown",
   "id": "32f3f73d-0737-47c0-8d47-f37fe0549762",
   "metadata": {},
   "source": [
    "# Escape characters\n",
    "\n",
    "-  An escape character is created by typing a backslash `\\` followed by the character you want to insert."
   ]
  },
  {
   "cell_type": "code",
   "execution_count": 6,
   "id": "b4f8bbad-f223-4b18-83ef-d581171d5237",
   "metadata": {},
   "outputs": [
    {
     "name": "stdout",
     "output_type": "stream",
     "text": [
      "Hello there!\n",
      "How are you?\n",
      "I\"m doing fine.\n"
     ]
    }
   ],
   "source": [
    "print(\"Hello there!\\nHow are you?\\nI\\\"m doing fine.\")"
   ]
  },
  {
   "cell_type": "markdown",
   "id": "a4e36117-a2c9-4ff5-8031-e81902482d84",
   "metadata": {},
   "source": [
    "`\\'`      Single quote\n",
    "\n",
    "`\\\"`      Double quote\n",
    "\n",
    "`\\t`      Tab\n",
    "\n",
    "`\\n`      Newline (line break)\n",
    "\n",
    "`\\\\`      Backslash\n",
    "\n",
    "`\\b`      Backspace\n",
    "\n",
    "`\\ooo`    Octal value\n",
    "\n",
    "`\\r`      Carriage Return"
   ]
  },
  {
   "cell_type": "markdown",
   "id": "fb6bdbd2-090e-44ca-a37c-e75e65c491b2",
   "metadata": {},
   "source": [
    "# Raw strings\n",
    "- A raw string entirely ignores all escape characters and prints any backslash that appears in the string"
   ]
  },
  {
   "cell_type": "code",
   "execution_count": 7,
   "id": "db5358b8-63f5-4b1b-b183-966078d31554",
   "metadata": {},
   "outputs": [
    {
     "name": "stdout",
     "output_type": "stream",
     "text": [
      "Hello there!\\nHow are you?\\nI\\'m doing fine.\n"
     ]
    }
   ],
   "source": [
    "print(r\"Hello there!\\nHow are you?\\nI\\'m doing fine.\")"
   ]
  },
  {
   "cell_type": "markdown",
   "id": "a3fbc703-8805-4bae-8863-8e9fd741bb4a",
   "metadata": {},
   "source": [
    "# Multiline Strings"
   ]
  },
  {
   "cell_type": "code",
   "execution_count": 14,
   "id": "78dc6205-2e37-4b79-9720-c4c71881b5d1",
   "metadata": {},
   "outputs": [
    {
     "name": "stdout",
     "output_type": "stream",
     "text": [
      "Dear Alice,\n",
      "\n",
      "Eve's cat has been arrested for catnapping,\n",
      "cat burglary, and extortion\n",
      "\n",
      "Sincerely,\n",
      "Bob\n"
     ]
    }
   ],
   "source": [
    "print(\n",
    "\"\"\"Dear Alice,\n",
    "\n",
    "Eve's cat has been arrested for catnapping,\n",
    "cat burglary, and extortion\n",
    "\n",
    "Sincerely,\n",
    "Bob\"\"\"\n",
    ")"
   ]
  },
  {
   "cell_type": "code",
   "execution_count": null,
   "id": "04eabe4c-1117-4a11-adee-b4df730cfa85",
   "metadata": {},
   "outputs": [],
   "source": []
  },
  {
   "cell_type": "code",
   "execution_count": null,
   "id": "1ce1cfc7-11c6-4e89-842f-76035256cb33",
   "metadata": {},
   "outputs": [],
   "source": []
  },
  {
   "cell_type": "code",
   "execution_count": null,
   "id": "ffe5f3e3-9fff-42a2-91c8-d903b7a78dcf",
   "metadata": {},
   "outputs": [],
   "source": []
  },
  {
   "cell_type": "markdown",
   "id": "746b59f5-eba4-45d6-9c5e-6331d835557a",
   "metadata": {},
   "source": [
    "# String Method"
   ]
  },
  {
   "cell_type": "code",
   "execution_count": 1,
   "id": "98c0d7bc-3f1e-46e2-9c54-d85a2f7d173a",
   "metadata": {},
   "outputs": [],
   "source": [
    "# Method is function(which perfrom Specific task) "
   ]
  },
  {
   "cell_type": "markdown",
   "id": "711de194-9740-4637-9eba-1f865873a1fe",
   "metadata": {},
   "source": [
    "* str.upper()\n",
    "- Return a copy of String with all character in upper case"
   ]
  },
  {
   "cell_type": "code",
   "execution_count": 5,
   "id": "38a974b0-e0bf-4f8e-9c55-94e14b996e27",
   "metadata": {},
   "outputs": [
    {
     "data": {
      "text/plain": [
       "'HELLO...123#'"
      ]
     },
     "execution_count": 5,
     "metadata": {},
     "output_type": "execute_result"
    }
   ],
   "source": [
    "s=\"hello...123#\"\n",
    "s.upper()"
   ]
  },
  {
   "cell_type": "code",
   "execution_count": 6,
   "id": "998328d5-a97a-4360-98e1-346e9a5ecb9f",
   "metadata": {},
   "outputs": [
    {
     "data": {
      "text/plain": [
       "'hello'"
      ]
     },
     "execution_count": 6,
     "metadata": {},
     "output_type": "execute_result"
    }
   ],
   "source": [
    "s=\"HELLO\"\n",
    "s.lower()"
   ]
  },
  {
   "cell_type": "code",
   "execution_count": 48,
   "id": "4c324a77-7f39-4c40-8ad9-cd19fc4080c3",
   "metadata": {},
   "outputs": [
    {
     "name": "stdout",
     "output_type": "stream",
     "text": [
      "THIRTY DAYS OF PYTHON\n",
      "tHIRTY dAYS oF pYTHON\n"
     ]
    }
   ],
   "source": [
    "# swapcase(): Checks if String Starts with the Specified String\n",
    "\n",
    "challenge = 'thirty days of python'\n",
    "print(challenge.swapcase())   # THIRTY DAYS OF PYTHON\n",
    "challenge = 'Thirty Days Of Python'\n",
    "print(challenge.swapcase())  # tHIRTY dAYS oF pYTHON"
   ]
  },
  {
   "cell_type": "markdown",
   "id": "6bc7d44f-9215-417f-86e6-7bb8e3f550d9",
   "metadata": {},
   "source": [
    " Str. Capitalized()\n",
    " - Return a copy of String with first letter capitalized and remaining  all to Lowercase"
   ]
  },
  {
   "cell_type": "code",
   "execution_count": 4,
   "id": "0a37b95c-b536-4c14-a42a-d9926f349f2d",
   "metadata": {},
   "outputs": [
    {
     "data": {
      "text/plain": [
       "'Hello world'"
      ]
     },
     "execution_count": 4,
     "metadata": {},
     "output_type": "execute_result"
    }
   ],
   "source": [
    "s=\"hELLO wORLD\"\n",
    "s.capitalize()"
   ]
  },
  {
   "cell_type": "code",
   "execution_count": 13,
   "id": "5387f7d9-c9fd-4ee8-8eed-d361f46ce135",
   "metadata": {},
   "outputs": [
    {
     "name": "stdout",
     "output_type": "stream",
     "text": [
      "3\n",
      "1\n"
     ]
    }
   ],
   "source": [
    "#count(): - returns occurrences of substring in string, count(substring, start=.., end=..)\n",
    "challenge = 'thirty days of python'\n",
    "print(challenge.count('y')) # 3\n",
    "print(challenge.count('y', 7, 14)) # To count Between the Stings Given the Start and end stirng \n"
   ]
  },
  {
   "cell_type": "code",
   "execution_count": 6,
   "id": "cfe7a8fa-5e89-4812-8b90-439e200ab15f",
   "metadata": {},
   "outputs": [
    {
     "data": {
      "text/plain": [
       "'Good Morning'"
      ]
     },
     "execution_count": 6,
     "metadata": {},
     "output_type": "execute_result"
    }
   ],
   "source": [
    "# title(): Returns a Title Cased String\n",
    "s=\"gooD moRNINg\"\n",
    "s.title()"
   ]
  },
  {
   "cell_type": "markdown",
   "id": "27b175b5-cf70-4192-b316-f43d1d3b835f",
   "metadata": {},
   "source": [
    "Str.Strip()\n",
    "- Return a copy of the string with leading & Trailing whitespace removed"
   ]
  },
  {
   "cell_type": "code",
   "execution_count": 7,
   "id": "15b39614-c748-4255-8d35-79930d5b895b",
   "metadata": {},
   "outputs": [
    {
     "data": {
      "text/plain": [
       "'Python is easy 2'"
      ]
     },
     "execution_count": 7,
     "metadata": {},
     "output_type": "execute_result"
    }
   ],
   "source": [
    "s=\" Python is easy 2 \"\n",
    "s.strip()"
   ]
  },
  {
   "cell_type": "code",
   "execution_count": 44,
   "id": "943a1767-3a07-4248-b7be-e2d72176e3f9",
   "metadata": {},
   "outputs": [
    {
     "data": {
      "text/plain": [
       "'This is also also Happy Days'"
      ]
     },
     "execution_count": 44,
     "metadata": {},
     "output_type": "execute_result"
    }
   ],
   "source": [
    "# replace(): Replaces substring inside\n",
    "st=\"This is very very Happy Days\"\n",
    "V=st.replace(\"very\", \"also\")\n",
    "V"
   ]
  },
  {
   "cell_type": "code",
   "execution_count": 47,
   "id": "2d671744-11f8-40fa-963d-e2cbed4db12c",
   "metadata": {},
   "outputs": [
    {
     "data": {
      "text/plain": [
       "['What', 'is', 'your', 'Name', ':', 'Jeetin']"
      ]
     },
     "execution_count": 47,
     "metadata": {},
     "output_type": "execute_result"
    }
   ],
   "source": [
    "# split():Splits String from Left, i.e. scans the string from left to right and separates it into substrings wherever it finds the specified delimiter.\n",
    "s=\"What is your Name : Jeetin\"\n",
    "s.split(\" \")\n",
    "\n",
    "#This results in a list of the words:\n"
   ]
  },
  {
   "cell_type": "code",
   "execution_count": 19,
   "id": "2c90cc75-c51d-4548-ab1d-be6c8ae2a3f6",
   "metadata": {},
   "outputs": [
    {
     "data": {
      "text/plain": [
       "str"
      ]
     },
     "execution_count": 19,
     "metadata": {},
     "output_type": "execute_result"
    }
   ],
   "source": [
    "type(s)"
   ]
  },
  {
   "cell_type": "code",
   "execution_count": 41,
   "id": "932ac0f1-62bd-4bdc-81d3-8f21576ed10a",
   "metadata": {},
   "outputs": [
    {
     "name": "stdout",
     "output_type": "stream",
     "text": [
      "thirty days of python \n"
     ]
    }
   ],
   "source": [
    "# strip(): Removes both leading and trailing characters\n",
    "\n",
    "challenge = 'thirty days of python '\n",
    "print(challenge.strip('y')) # 5"
   ]
  },
  {
   "cell_type": "code",
   "execution_count": 9,
   "id": "f9888e5c-2066-4222-a5d9-87b46d2f950e",
   "metadata": {},
   "outputs": [
    {
     "data": {
      "text/plain": [
       "' Python is easy 2'"
      ]
     },
     "execution_count": 9,
     "metadata": {},
     "output_type": "execute_result"
    }
   ],
   "source": [
    "s=\" Python is easy 2 \"\n",
    "s.rstrip()"
   ]
  },
  {
   "cell_type": "code",
   "execution_count": 42,
   "id": "2d306f63-368d-47b4-a8a7-89be22220793",
   "metadata": {},
   "outputs": [
    {
     "data": {
      "text/plain": [
       "'Python is easy 2 '"
      ]
     },
     "execution_count": 42,
     "metadata": {},
     "output_type": "execute_result"
    }
   ],
   "source": [
    "s=\" Python is easy 2 \"\n",
    "s.lstrip()"
   ]
  },
  {
   "cell_type": "code",
   "execution_count": 24,
   "id": "104abac7-a784-4913-b65f-78f2b6cfc7e5",
   "metadata": {},
   "outputs": [
    {
     "data": {
      "text/plain": [
       "'Jeetin:is:a:AI:Engineer'"
      ]
     },
     "execution_count": 24,
     "metadata": {},
     "output_type": "execute_result"
    }
   ],
   "source": [
    "\":\".join([\"Jeetin\",\"is\",\"a\",\"AI\",\"Engineer\"])"
   ]
  },
  {
   "cell_type": "code",
   "execution_count": 25,
   "id": "c2d2b102-c757-469e-a4d9-5ed42e183b10",
   "metadata": {},
   "outputs": [],
   "source": [
    "a,b,c,d,e= \"Jeetin\",\"is\",\"a\",\"AI\",\"Engineer\""
   ]
  },
  {
   "cell_type": "code",
   "execution_count": 31,
   "id": "be39f47c-c5e0-4f3d-bd5c-c50c3e618441",
   "metadata": {},
   "outputs": [
    {
     "data": {
      "text/plain": [
       "'Jeetin:is:a:AI:Engineer'"
      ]
     },
     "execution_count": 31,
     "metadata": {},
     "output_type": "execute_result"
    }
   ],
   "source": [
    "m=\":\".join([a,b,c,d,e])\n",
    "m"
   ]
  },
  {
   "cell_type": "code",
   "execution_count": 38,
   "id": "9ea0b703-30d7-4807-8979-51222f52958e",
   "metadata": {},
   "outputs": [
    {
     "data": {
      "text/plain": [
       "12"
      ]
     },
     "execution_count": 38,
     "metadata": {},
     "output_type": "execute_result"
    }
   ],
   "source": [
    "m.index(\"A\")"
   ]
  },
  {
   "cell_type": "code",
   "execution_count": 27,
   "id": "1f0a6561-2780-4d3f-9db4-4a3a2949b9e3",
   "metadata": {},
   "outputs": [
    {
     "data": {
      "text/plain": [
       "('Jeetin', 'is', 'a', 'AI', 'Engineer')"
      ]
     },
     "execution_count": 27,
     "metadata": {},
     "output_type": "execute_result"
    }
   ],
   "source": [
    "a,b,c,d,e"
   ]
  },
  {
   "cell_type": "code",
   "execution_count": 39,
   "id": "a6b7c2b7-23ab-4a9c-a7d4-95eebdb9f6f6",
   "metadata": {},
   "outputs": [
    {
     "data": {
      "text/plain": [
       "'Jeetin:is:a:AI:Engineer'"
      ]
     },
     "execution_count": 39,
     "metadata": {},
     "output_type": "execute_result"
    }
   ],
   "source": [
    "m"
   ]
  },
  {
   "cell_type": "code",
   "execution_count": 14,
   "id": "15313302-eaa5-4450-b03c-35c1acaf5716",
   "metadata": {},
   "outputs": [
    {
     "name": "stdout",
     "output_type": "stream",
     "text": [
      "5\n",
      "0\n"
     ]
    }
   ],
   "source": [
    "# find(): Returns the index of first occurrence of substring\n",
    "\n",
    "challenge = 'thirty days of python'\n",
    "print(challenge.find('y'))  # 5\n",
    "print(challenge.find('th')) # 0\n"
   ]
  },
  {
   "cell_type": "code",
   "execution_count": 41,
   "id": "68ecb270-f23a-4ce4-a08e-bdc099c8983e",
   "metadata": {},
   "outputs": [
    {
     "data": {
      "text/plain": [
       "-1"
      ]
     },
     "execution_count": 41,
     "metadata": {},
     "output_type": "execute_result"
    }
   ],
   "source": [
    "m.find(\"awesome\")"
   ]
  },
  {
   "cell_type": "code",
   "execution_count": 8,
   "id": "8e0a2101-8273-45f8-b4b9-b641906f9f7c",
   "metadata": {},
   "outputs": [],
   "source": [
    "s=\"Jeetin is very very Asesome\""
   ]
  },
  {
   "cell_type": "code",
   "execution_count": 9,
   "id": "bb9b937a-ece5-47b7-bde0-94b4616bca95",
   "metadata": {},
   "outputs": [
    {
     "data": {
      "text/plain": [
       "6"
      ]
     },
     "execution_count": 9,
     "metadata": {},
     "output_type": "execute_result"
    }
   ],
   "source": [
    "s.count(\"e\")"
   ]
  },
  {
   "cell_type": "code",
   "execution_count": 10,
   "id": "cf103fea-3f46-41cd-b743-17e66d07a867",
   "metadata": {},
   "outputs": [
    {
     "name": "stdout",
     "output_type": "stream",
     "text": [
      "Jeetin is very very Asesome\n"
     ]
    }
   ],
   "source": [
    "print(s)"
   ]
  },
  {
   "cell_type": "code",
   "execution_count": 49,
   "id": "0be85bcc-c913-4393-b9d6-51696ec6c0a0",
   "metadata": {},
   "outputs": [
    {
     "data": {
      "text/plain": [
       "False"
      ]
     },
     "execution_count": 49,
     "metadata": {},
     "output_type": "execute_result"
    }
   ],
   "source": [
    "# startswith(): Checks if String Starts with the Specified String\n",
    "s=\"Jeetin is very very Asesome\"\n",
    "s.startswith(\"Jeetin\")\n",
    "s.startswith(\"very\")"
   ]
  },
  {
   "cell_type": "code",
   "execution_count": 52,
   "id": "aeadf2dd-f02f-4223-a50f-c87b0341e424",
   "metadata": {},
   "outputs": [
    {
     "data": {
      "text/plain": [
       "'Jeetin is very very Asesome'"
      ]
     },
     "execution_count": 52,
     "metadata": {},
     "output_type": "execute_result"
    }
   ],
   "source": [
    "s"
   ]
  },
  {
   "cell_type": "code",
   "execution_count": 20,
   "id": "158c09a3-a28f-4495-bf1f-f300f84a8155",
   "metadata": {},
   "outputs": [
    {
     "name": "stdout",
     "output_type": "stream",
     "text": [
      "True\n"
     ]
    }
   ],
   "source": [
    "# startswith(): Checks if a string starts with a specified sting\n",
    "\n",
    "challenge = 'thirty days of python'\n",
    "print(challenge.startswith('thir'))  # True"
   ]
  },
  {
   "cell_type": "code",
   "execution_count": 11,
   "id": "ea947e7c-b3d7-4117-96d4-36fa319f5ed4",
   "metadata": {},
   "outputs": [
    {
     "name": "stdout",
     "output_type": "stream",
     "text": [
      "True\n",
      "False\n"
     ]
    }
   ],
   "source": [
    "# endswith(): Checks if a string ends with a specified ending\n",
    "\n",
    "challenge = 'thirty days of python'\n",
    "print(challenge.endswith('on'))   # True\n",
    "print(challenge.endswith('tion')) # False"
   ]
  },
  {
   "cell_type": "markdown",
   "id": "b8ff9df1-a1a6-4480-9036-61ffd942359f",
   "metadata": {},
   "source": [
    " expandtabs() \n",
    "\n",
    "- Replaces tab character with spaces, default tab size is 8. It takes tab size argument"
   ]
  },
  {
   "cell_type": "code",
   "execution_count": null,
   "id": "624b09c9-4189-4a67-b959-86133ba0f8ef",
   "metadata": {},
   "outputs": [],
   "source": [
    "challenge = 'thirty\\tdays\\tof\\tpython'\n",
    "print(challenge.expandtabs())   # 'thirty  days    of      python'\n",
    "print(challenge.expandtabs(10)) # 'thirty    days      of        python'"
   ]
  },
  {
   "cell_type": "code",
   "execution_count": 54,
   "id": "3aa134ee-133e-488f-aa6c-9a30a9ece573",
   "metadata": {},
   "outputs": [
    {
     "data": {
      "text/plain": [
       "False"
      ]
     },
     "execution_count": 54,
     "metadata": {},
     "output_type": "execute_result"
    }
   ],
   "source": [
    "s.endswith(\"Jeetin\")"
   ]
  },
  {
   "cell_type": "code",
   "execution_count": 25,
   "id": "8cff181e-09e3-4481-b617-bcc82f7d7c09",
   "metadata": {},
   "outputs": [
    {
     "name": "stdout",
     "output_type": "stream",
     "text": [
      "False\n",
      "0\n"
     ]
    }
   ],
   "source": [
    "# isdecimal(): Checks Decimal Characters\n",
    "\n",
    "challenge = 'thirty days of python'\n",
    "print(challenge.isdecimal())  # 5\n",
    "print(challenge.find('th')) # 0"
   ]
  },
  {
   "cell_type": "code",
   "execution_count": 31,
   "id": "7fcaae6a-c8ab-4760-aaac-88d3ea53bda7",
   "metadata": {},
   "outputs": [
    {
     "name": "stdout",
     "output_type": "stream",
     "text": [
      "True\n",
      "False\n"
     ]
    }
   ],
   "source": [
    "challenge = '35'\n",
    "print(challenge.isdecimal())  # 5\n",
    "\n",
    "challenge = 3.5\n",
    "# First convert the float to a string\n",
    "challenge_str = str(challenge)\n",
    "\n",
    "# Now you can use the isdecimal() method, which will return False\n",
    "# because of the '.' character.\n",
    "print(challenge_str.isdecimal())\n"
   ]
  },
  {
   "cell_type": "code",
   "execution_count": 34,
   "id": "c768cc13-52c1-4d6c-a95c-d98a2a42bfa4",
   "metadata": {},
   "outputs": [
    {
     "name": "stdout",
     "output_type": "stream",
     "text": [
      "False\n",
      "True\n"
     ]
    }
   ],
   "source": [
    "\n",
    "# isidentifier():Checks for valid identifier means it check if a string is a valid variable name\n",
    "\n",
    "challenge = '30DaysOfPython'\n",
    "print(challenge.isidentifier()) # False, because it starts with a number\n",
    "challenge = 'thirty_days_of_python'\n",
    "print(challenge.isidentifier()) # True"
   ]
  },
  {
   "cell_type": "code",
   "execution_count": 56,
   "id": "7e87e00a-a5a8-4d44-b558-1cb02aa60a9c",
   "metadata": {},
   "outputs": [
    {
     "data": {
      "text/plain": [
       "True"
      ]
     },
     "execution_count": 56,
     "metadata": {},
     "output_type": "execute_result"
    }
   ],
   "source": [
    "# isalnum(): Checks alphanumeric character\n",
    "\n",
    "s=\"Jeetin123\"\n",
    "s.isalnum()"
   ]
  },
  {
   "cell_type": "code",
   "execution_count": 57,
   "id": "2e6ffcd1-f9fb-441f-a9e6-212e1c2fefce",
   "metadata": {},
   "outputs": [
    {
     "data": {
      "text/plain": [
       "False"
      ]
     },
     "execution_count": 57,
     "metadata": {},
     "output_type": "execute_result"
    }
   ],
   "source": [
    "s=\"Jeetin 123\"\n",
    "s.isalnum()"
   ]
  },
  {
   "cell_type": "code",
   "execution_count": 24,
   "id": "1064207f-250a-430f-8511-9410466adf1c",
   "metadata": {},
   "outputs": [
    {
     "data": {
      "text/plain": [
       "True"
      ]
     },
     "execution_count": 24,
     "metadata": {},
     "output_type": "execute_result"
    }
   ],
   "source": [
    "# isalpha(): Checks if all characters are alphabets\n",
    "s=\"Jeetin\"\n",
    "s.isalpha()"
   ]
  },
  {
   "cell_type": "code",
   "execution_count": 59,
   "id": "ea50c8c0-0fdb-48ca-b8e6-a11b2df1f688",
   "metadata": {},
   "outputs": [
    {
     "data": {
      "text/plain": [
       "False"
      ]
     },
     "execution_count": 59,
     "metadata": {},
     "output_type": "execute_result"
    }
   ],
   "source": [
    "s=\"Jeetin 123\"\n",
    "s.isalpha()"
   ]
  },
  {
   "cell_type": "code",
   "execution_count": 32,
   "id": "1218d33a-1901-4d29-a402-1d46473d99c1",
   "metadata": {},
   "outputs": [
    {
     "data": {
      "text/plain": [
       "True"
      ]
     },
     "execution_count": 32,
     "metadata": {},
     "output_type": "execute_result"
    }
   ],
   "source": [
    "# isdigit(): Checks Digit Characters\n",
    "s=\"1237\"\n",
    "s.isdigit()"
   ]
  },
  {
   "cell_type": "code",
   "execution_count": 33,
   "id": "d64da505-a4b0-4460-8d33-a87f240b6c0a",
   "metadata": {},
   "outputs": [
    {
     "data": {
      "text/plain": [
       "False"
      ]
     },
     "execution_count": 33,
     "metadata": {},
     "output_type": "execute_result"
    }
   ],
   "source": [
    "s=\"12.37\"\n",
    "s.isdigit()"
   ]
  },
  {
   "cell_type": "code",
   "execution_count": 63,
   "id": "2b32c5a1-e2e0-4b80-984c-92ccedb8824e",
   "metadata": {},
   "outputs": [
    {
     "data": {
      "text/plain": [
       "True"
      ]
     },
     "execution_count": 63,
     "metadata": {},
     "output_type": "execute_result"
    }
   ],
   "source": [
    "# islower():Checks if all alphabets in a string are lowercase\n",
    "s=\"jeetin 123\"\n",
    "s.islower()"
   ]
  },
  {
   "cell_type": "code",
   "execution_count": 36,
   "id": "fe0e8cf0-b3ed-47ee-978f-eaccc657718e",
   "metadata": {},
   "outputs": [
    {
     "name": "stdout",
     "output_type": "stream",
     "text": [
      "True\n",
      "False\n"
     ]
    }
   ],
   "source": [
    "\n",
    "# isnumeric():Checks numeric characters\n",
    "\n",
    "num = '10'\n",
    "a='ten'\n",
    "print(num.isnumeric())      \n",
    "print(a.isnumeric())    "
   ]
  },
  {
   "cell_type": "code",
   "execution_count": 38,
   "id": "ce6c24c8-c5cc-4edb-ac6f-c3df7f8e15cd",
   "metadata": {},
   "outputs": [
    {
     "name": "stdout",
     "output_type": "stream",
     "text": [
      "HTML#, CSS#, JavaScript#, React\n"
     ]
    }
   ],
   "source": [
    "\n",
    "# join(): Returns a concatenated string\n",
    "\n",
    "web_tech = ['HTML', 'CSS', 'JavaScript', 'React']\n",
    "result = '#, '.join(web_tech)\n",
    "print(result) "
   ]
  },
  {
   "cell_type": "code",
   "execution_count": 64,
   "id": "d7055a7f-df5d-4875-9e36-76a93458fc7f",
   "metadata": {},
   "outputs": [
    {
     "data": {
      "text/plain": [
       "False"
      ]
     },
     "execution_count": 64,
     "metadata": {},
     "output_type": "execute_result"
    }
   ],
   "source": [
    "s=\"Jeetin 123\"\n",
    "s.islower()"
   ]
  },
  {
   "cell_type": "code",
   "execution_count": 66,
   "id": "bf960307-06dc-46ab-90fc-17aeb5f1ec78",
   "metadata": {},
   "outputs": [
    {
     "data": {
      "text/plain": [
       "True"
      ]
     },
     "execution_count": 66,
     "metadata": {},
     "output_type": "execute_result"
    }
   ],
   "source": [
    "# isupper(): returns if all characters are uppercase characters\n",
    "s=\"JEETIN 123\"\n",
    "s.isupper()"
   ]
  },
  {
   "cell_type": "code",
   "execution_count": 65,
   "id": "bf1d694b-cae3-4d03-afb1-e08e43457b96",
   "metadata": {},
   "outputs": [
    {
     "data": {
      "text/plain": [
       "False"
      ]
     },
     "execution_count": 65,
     "metadata": {},
     "output_type": "execute_result"
    }
   ],
   "source": [
    "s=\"Jeetin 123\"\n",
    "s.isupper()"
   ]
  },
  {
   "cell_type": "code",
   "execution_count": 68,
   "id": "beb58c62-f8b2-459c-a027-14a91cd303e8",
   "metadata": {},
   "outputs": [
    {
     "data": {
      "text/plain": [
       "True"
      ]
     },
     "execution_count": 68,
     "metadata": {},
     "output_type": "execute_result"
    }
   ],
   "source": [
    "s=\"           \"\n",
    "s.isspace()"
   ]
  },
  {
   "cell_type": "code",
   "execution_count": 67,
   "id": "3d4f8685-aa88-4649-9848-7b5a3f19c25d",
   "metadata": {},
   "outputs": [
    {
     "data": {
      "text/plain": [
       "False"
      ]
     },
     "execution_count": 67,
     "metadata": {},
     "output_type": "execute_result"
    }
   ],
   "source": [
    "s=\"Jeetin 123\"\n",
    "s.isspace()"
   ]
  },
  {
   "cell_type": "code",
   "execution_count": 72,
   "id": "dbc23f2c-32a7-4e5d-bd5e-330d730d7e98",
   "metadata": {},
   "outputs": [
    {
     "data": {
      "text/plain": [
       "True"
      ]
     },
     "execution_count": 72,
     "metadata": {},
     "output_type": "execute_result"
    }
   ],
   "source": [
    "s=\"The Jeetin\"\n",
    "s.istitle()"
   ]
  },
  {
   "cell_type": "code",
   "execution_count": 71,
   "id": "3576d154-0d61-4a15-b2b6-6282c88790e1",
   "metadata": {},
   "outputs": [
    {
     "data": {
      "text/plain": [
       "False"
      ]
     },
     "execution_count": 71,
     "metadata": {},
     "output_type": "execute_result"
    }
   ],
   "source": [
    "s=\"TheJeetin\"\n",
    "s.istitle()"
   ]
  },
  {
   "cell_type": "code",
   "execution_count": 77,
   "id": "cca051d9-c601-4e61-8530-f743aa3ce38e",
   "metadata": {},
   "outputs": [
    {
     "data": {
      "text/plain": [
       "'-AI'"
      ]
     },
     "execution_count": 77,
     "metadata": {},
     "output_type": "execute_result"
    }
   ],
   "source": [
    "s=\"Jeetin-AI\"\n",
    "s.removeprefix(\"Jeetin\")"
   ]
  },
  {
   "cell_type": "code",
   "execution_count": 84,
   "id": "fed5261a-fd1b-4990-b08c-6f5da2a872b4",
   "metadata": {},
   "outputs": [
    {
     "data": {
      "text/plain": [
       "'This is to let you know Jeetin-AI'"
      ]
     },
     "execution_count": 84,
     "metadata": {},
     "output_type": "execute_result"
    }
   ],
   "source": [
    "s=\"This is to let you know Jeetin-AI\"\n",
    "s.removesuffix(\"know\")"
   ]
  },
  {
   "cell_type": "code",
   "execution_count": 80,
   "id": "85a8d99a-d0cc-48f2-a6f0-5735b6068a23",
   "metadata": {},
   "outputs": [
    {
     "data": {
      "text/plain": [
       "'Jeetin-'"
      ]
     },
     "execution_count": 80,
     "metadata": {},
     "output_type": "execute_result"
    }
   ],
   "source": [
    "s=\"Jeetin-AI\"\n",
    "s.removesuffix(\"AI\")"
   ]
  },
  {
   "cell_type": "code",
   "execution_count": 79,
   "id": "16d9498e-c3bf-4388-b639-8abc559a5b73",
   "metadata": {},
   "outputs": [
    {
     "data": {
      "text/plain": [
       "'Jeetin-AI'"
      ]
     },
     "execution_count": 79,
     "metadata": {},
     "output_type": "execute_result"
    }
   ],
   "source": [
    "s=\"Jeetin-AI\"\n",
    "s.removesuffix(\"Jeetin\")"
   ]
  },
  {
   "cell_type": "code",
   "execution_count": 88,
   "id": "a26dcbbb-e38b-4e85-975c-5fd1c3f7a7d9",
   "metadata": {},
   "outputs": [
    {
     "data": {
      "text/plain": [
       "'Jeet'"
      ]
     },
     "execution_count": 88,
     "metadata": {},
     "output_type": "execute_result"
    }
   ],
   "source": [
    "s=\"Jeetin\"\n",
    "s.removesuffix(\"in\")"
   ]
  },
  {
   "cell_type": "code",
   "execution_count": 4,
   "id": "a65b1adf-8528-406c-ba89-601de8da0795",
   "metadata": {},
   "outputs": [
    {
     "name": "stdout",
     "output_type": "stream",
     "text": [
      "The Value of {a}\n"
     ]
    }
   ],
   "source": [
    "#Fsting - This is used to fill in the value in {}\n",
    "\n",
    "print(\"The Value of {a}\")"
   ]
  },
  {
   "cell_type": "code",
   "execution_count": 8,
   "id": "0fb9a061-295b-4e60-96fb-4e0ba9b1a495",
   "metadata": {},
   "outputs": [
    {
     "name": "stdout",
     "output_type": "stream",
     "text": [
      "The Value of 10\n"
     ]
    }
   ],
   "source": [
    "a,b,c,d=10,12,13,14\n",
    "print(f\"The Value of {a}\")"
   ]
  },
  {
   "cell_type": "code",
   "execution_count": 19,
   "id": "cce39afa-606b-4fa1-b2e6-f93ae2035f24",
   "metadata": {},
   "outputs": [
    {
     "name": "stdout",
     "output_type": "stream",
     "text": [
      "I am Asabeneh Yetayeh. I am a teacher. I live in Finland.\n"
     ]
    }
   ],
   "source": [
    "# format()\tformats string into nicer output    \n",
    "first_name = 'Asabeneh'\n",
    "last_name = 'Yetayeh'\n",
    "job = 'teacher'\n",
    "country = 'Finland'\n",
    "sentence = 'I am {} {}. I am a {}. I live in {}.'.format(first_name, last_name, job, country)\n",
    "print(sentence) # I am Asabeneh Yetayeh. I am a teacher. I live in Finland.\n"
   ]
  },
  {
   "cell_type": "code",
   "execution_count": 20,
   "id": "133a00c4-202b-4f83-aca5-ea070e9c1464",
   "metadata": {},
   "outputs": [
    {
     "name": "stdout",
     "output_type": "stream",
     "text": [
      "The area of circle with 10 is 3.14\n"
     ]
    }
   ],
   "source": [
    "radius = 10\n",
    "pi = 3.14\n",
    "area = pi # radius ## 2\n",
    "result = 'The area of circle with {} is {}'.format(str(radius), str(area))\n",
    "print(result) # The area of circle with 10 is 314.0"
   ]
  },
  {
   "cell_type": "code",
   "execution_count": 23,
   "id": "e582925e-5f29-4e42-b90b-cfe33f70aaac",
   "metadata": {},
   "outputs": [
    {
     "name": "stdout",
     "output_type": "stream",
     "text": [
      "5\n",
      "0\n"
     ]
    }
   ],
   "source": [
    "# index(): Returns the index of substring\n",
    "challenge = 'thirty days of python'\n",
    "print(challenge.index('y'))  # 5\n",
    "print(challenge.index('th')) # 0"
   ]
  },
  {
   "cell_type": "code",
   "execution_count": null,
   "id": "1f537727-c562-45eb-b20e-e97606fdd219",
   "metadata": {},
   "outputs": [],
   "source": []
  }
 ],
 "metadata": {
  "kernelspec": {
   "display_name": "Python 3 (ipykernel)",
   "language": "python",
   "name": "python3"
  },
  "language_info": {
   "codemirror_mode": {
    "name": "ipython",
    "version": 3
   },
   "file_extension": ".py",
   "mimetype": "text/x-python",
   "name": "python",
   "nbconvert_exporter": "python",
   "pygments_lexer": "ipython3",
   "version": "3.13.5"
  }
 },
 "nbformat": 4,
 "nbformat_minor": 5
}
