{
 "cells": [
  {
   "cell_type": "markdown",
   "id": "74fe250b-85ef-4355-bb6a-0bea817a0e25",
   "metadata": {},
   "source": [
    "# Tuples\n",
    "1. Tuple is similar to List except that the objects in tuple are immutable which means we cannot\n",
    "change the elements of a tuple once assigned.\n",
    "2. When we do not want to change the data over time, tuple is a preferred data type.\n",
    "3. Iterating over the elements of a tuple is faster compared to iterating over a list."
   ]
  },
  {
   "cell_type": "markdown",
   "id": "b9f94028-ad71-49d7-9d91-848b92e11f56",
   "metadata": {},
   "source": [
    "## Create Tuple"
   ]
  },
  {
   "cell_type": "code",
   "execution_count": 1,
   "id": "622510a0-6bdb-4f00-8ff4-13d5610e49bb",
   "metadata": {},
   "outputs": [
    {
     "name": "stdout",
     "output_type": "stream",
     "text": [
      "()\n"
     ]
    },
    {
     "data": {
      "text/plain": [
       "tuple"
      ]
     },
     "execution_count": 1,
     "metadata": {},
     "output_type": "execute_result"
    }
   ],
   "source": [
    "t=() # Tuple Assign Option 1\n",
    "print(t)\n",
    "type(t)"
   ]
  },
  {
   "cell_type": "code",
   "execution_count": 2,
   "id": "760bb68a-d1ff-47ae-87e9-e8d5eff01e0b",
   "metadata": {},
   "outputs": [
    {
     "name": "stdout",
     "output_type": "stream",
     "text": [
      "()\n"
     ]
    },
    {
     "data": {
      "text/plain": [
       "tuple"
      ]
     },
     "execution_count": 2,
     "metadata": {},
     "output_type": "execute_result"
    }
   ],
   "source": [
    "t=tuple() # Tuple Assign Option 2\n",
    "print(t)\n",
    "type(t)"
   ]
  },
  {
   "cell_type": "code",
   "execution_count": 3,
   "id": "7dbe24ab-27d8-43b8-9c5f-15752bf62f3b",
   "metadata": {},
   "outputs": [],
   "source": [
    "t=(10,2.5,True, \"srk\",[2,3,4],(10,15,20)) # This is Hetrogenous & Nest Tuples"
   ]
  },
  {
   "cell_type": "code",
   "execution_count": 4,
   "id": "3cffba84-0587-41d8-bed0-ef77fc6e06ec",
   "metadata": {},
   "outputs": [
    {
     "name": "stdout",
     "output_type": "stream",
     "text": [
      "(10, 2.5, True, 'srk', [2, 3, 4], (10, 15, 20))\n"
     ]
    },
    {
     "data": {
      "text/plain": [
       "tuple"
      ]
     },
     "execution_count": 4,
     "metadata": {},
     "output_type": "execute_result"
    }
   ],
   "source": [
    "print(t)\n",
    "type(t)"
   ]
  },
  {
   "cell_type": "code",
   "execution_count": 5,
   "id": "5967302d-3606-4a19-8419-bd793be40e73",
   "metadata": {},
   "outputs": [
    {
     "data": {
      "text/plain": [
       "2"
      ]
     },
     "execution_count": 5,
     "metadata": {},
     "output_type": "execute_result"
    }
   ],
   "source": [
    "t[-2][0]"
   ]
  },
  {
   "cell_type": "code",
   "execution_count": 6,
   "id": "2996c4a8-c35f-4ef5-8532-d033d4b2d992",
   "metadata": {},
   "outputs": [
    {
     "name": "stdout",
     "output_type": "stream",
     "text": [
      "(1, 2, 3, [4, 5, 6], 9, 10)\n",
      "2415496941568\n"
     ]
    }
   ],
   "source": [
    "t=(1,2,3,[4,5,6],9,10)\n",
    "print(t)\n",
    "print(id(t))"
   ]
  },
  {
   "cell_type": "code",
   "execution_count": 7,
   "id": "4418f989-2901-48a7-afad-d210b942c14d",
   "metadata": {},
   "outputs": [
    {
     "name": "stdout",
     "output_type": "stream",
     "text": [
      "(1, 2, 3, [4, 5, 6, 7], 9, 10)\n",
      "2415496941568\n"
     ]
    }
   ],
   "source": [
    "t[3].append(7)\n",
    "print(t)\n",
    "print(id(t))"
   ]
  },
  {
   "cell_type": "code",
   "execution_count": 8,
   "id": "7caba7d7-d6ba-4c59-bc99-78c4b8e7a067",
   "metadata": {},
   "outputs": [
    {
     "name": "stdout",
     "output_type": "stream",
     "text": [
      "(1, 2, 3, [4, 50, 6, 7], 9, 10)\n",
      "2415496941568\n"
     ]
    }
   ],
   "source": [
    "t[3][1]=50\n",
    "print(t)\n",
    "print(id(t))"
   ]
  },
  {
   "cell_type": "code",
   "execution_count": 41,
   "id": "2521ca78-d51c-48b0-a2de-7a3b6ca2fd8a",
   "metadata": {},
   "outputs": [],
   "source": [
    "t1=(1,2,3,1,3,4,[1,1,1,2,2,3,3],5,6,7)"
   ]
  },
  {
   "cell_type": "code",
   "execution_count": 10,
   "id": "0d1f0526-96c5-417c-8929-152138c2ead4",
   "metadata": {},
   "outputs": [
    {
     "data": {
      "text/plain": [
       "3"
      ]
     },
     "execution_count": 10,
     "metadata": {},
     "output_type": "execute_result"
    }
   ],
   "source": [
    "t[6].count(1)"
   ]
  },
  {
   "cell_type": "code",
   "execution_count": 11,
   "id": "ae87ee78-65c0-422c-8eb4-a72926ec3c7a",
   "metadata": {},
   "outputs": [
    {
     "data": {
      "text/plain": [
       "2415497489216"
      ]
     },
     "execution_count": 11,
     "metadata": {},
     "output_type": "execute_result"
    }
   ],
   "source": [
    "t=(1,2,3,1,3,4,[1,1,1,2,2,3,3],5,6,7)\n",
    "id(t)"
   ]
  },
  {
   "cell_type": "code",
   "execution_count": 12,
   "id": "1d234929-96fd-481f-9256-539f6ced1239",
   "metadata": {},
   "outputs": [
    {
     "name": "stdout",
     "output_type": "stream",
     "text": [
      "2415522296576\n"
     ]
    },
    {
     "data": {
      "text/plain": [
       "list"
      ]
     },
     "execution_count": 12,
     "metadata": {},
     "output_type": "execute_result"
    }
   ],
   "source": [
    "t=(1,2,3,1,3,4,[1,1,1,2,2,3,3],5,6,7)\n",
    "t=list(t)\n",
    "print(id(t))\n",
    "type(t)"
   ]
  },
  {
   "cell_type": "code",
   "execution_count": 13,
   "id": "6358d39f-14c4-4f30-9210-7ccafb4a4312",
   "metadata": {},
   "outputs": [
    {
     "name": "stdout",
     "output_type": "stream",
     "text": [
      "2415497487680\n"
     ]
    },
    {
     "data": {
      "text/plain": [
       "tuple"
      ]
     },
     "execution_count": 13,
     "metadata": {},
     "output_type": "execute_result"
    }
   ],
   "source": [
    "t=tuple(t)\n",
    "print(id(t))\n",
    "type(t)"
   ]
  },
  {
   "cell_type": "code",
   "execution_count": 14,
   "id": "347acbcb-baac-4a23-99b3-9346ee767a7d",
   "metadata": {},
   "outputs": [],
   "source": [
    "t=(1,2,3,4,6,7)"
   ]
  },
  {
   "cell_type": "code",
   "execution_count": 15,
   "id": "fff9d240-1bf2-40f3-9843-67c41847b687",
   "metadata": {},
   "outputs": [
    {
     "ename": "NameError",
     "evalue": "name 't' is not defined",
     "output_type": "error",
     "traceback": [
      "\u001b[31m---------------------------------------------------------------------------\u001b[39m",
      "\u001b[31mNameError\u001b[39m                                 Traceback (most recent call last)",
      "\u001b[36mCell\u001b[39m\u001b[36m \u001b[39m\u001b[32mIn[15]\u001b[39m\u001b[32m, line 3\u001b[39m\n\u001b[32m      1\u001b[39m t=(\u001b[32m1\u001b[39m,\u001b[32m2\u001b[39m,\u001b[32m3\u001b[39m,\u001b[32m4\u001b[39m,\u001b[32m6\u001b[39m,\u001b[32m7\u001b[39m)\n\u001b[32m      2\u001b[39m \u001b[38;5;28;01mdel\u001b[39;00m t\n\u001b[32m----> \u001b[39m\u001b[32m3\u001b[39m \u001b[38;5;28mprint\u001b[39m(\u001b[43mt\u001b[49m)\n",
      "\u001b[31mNameError\u001b[39m: name 't' is not defined"
     ]
    }
   ],
   "source": [
    "t=(1,2,3,4,6,7)\n",
    "del t\n",
    "print(t)"
   ]
  },
  {
   "cell_type": "code",
   "execution_count": 17,
   "id": "80f7138c-d786-47fa-a2e3-a5295f51a7c3",
   "metadata": {},
   "outputs": [
    {
     "name": "stdout",
     "output_type": "stream",
     "text": [
      "(1, 2, 3, 4, 4, 5, 5, 7, 8, 9)\n"
     ]
    }
   ],
   "source": [
    "t=(1,4,5,2,3,8,9,4,5,7)\n",
    "t=tuple(sorted(t))\n",
    "print(t)"
   ]
  },
  {
   "cell_type": "markdown",
   "id": "ef0cfff6-0659-4435-9967-eba6aabe6d8f",
   "metadata": {},
   "source": [
    "# Tuple Index"
   ]
  },
  {
   "cell_type": "code",
   "execution_count": 18,
   "id": "c2b3c6e1-9832-481c-9d1a-56002c6258f5",
   "metadata": {},
   "outputs": [
    {
     "data": {
      "text/plain": [
       "1"
      ]
     },
     "execution_count": 18,
     "metadata": {},
     "output_type": "execute_result"
    }
   ],
   "source": [
    "t[0] # Retrevive first element of the Tuple"
   ]
  },
  {
   "cell_type": "code",
   "execution_count": 20,
   "id": "39c64221-30ca-430e-94c4-cebca32bcf9b",
   "metadata": {},
   "outputs": [
    {
     "data": {
      "text/plain": [
       "(1, 2, 3, 1, 3, 4, [1, 1, 1, 2, 2, 3, 3], 5, 6, 7)"
      ]
     },
     "execution_count": 20,
     "metadata": {},
     "output_type": "execute_result"
    }
   ],
   "source": [
    "t1"
   ]
  },
  {
   "cell_type": "code",
   "execution_count": 22,
   "id": "76c90a87-fe5e-47ef-a0f5-4e6e92809888",
   "metadata": {},
   "outputs": [
    {
     "data": {
      "text/plain": [
       "1"
      ]
     },
     "execution_count": 22,
     "metadata": {},
     "output_type": "execute_result"
    }
   ],
   "source": [
    "t1[6][0] # Nested Indexing - Access the frist character of Nested Tuple"
   ]
  },
  {
   "cell_type": "code",
   "execution_count": 23,
   "id": "5fab0731-8168-4b53-ae6a-46efa753ae7e",
   "metadata": {},
   "outputs": [
    {
     "data": {
      "text/plain": [
       "7"
      ]
     },
     "execution_count": 23,
     "metadata": {},
     "output_type": "execute_result"
    }
   ],
   "source": [
    "t1[-1]"
   ]
  },
  {
   "cell_type": "markdown",
   "id": "af65c068-4f86-4865-9e1a-d7b715de05c7",
   "metadata": {},
   "source": [
    "# Index Position"
   ]
  },
  {
   "cell_type": "code",
   "execution_count": 50,
   "id": "1e31b134-1d9c-44c2-b4b3-b6d8505473af",
   "metadata": {},
   "outputs": [],
   "source": [
    "t1 = (2, 3, 1, 3, 4,5, 6, 7)"
   ]
  },
  {
   "cell_type": "code",
   "execution_count": 53,
   "id": "773ba0df-e21f-415c-bb53-332bf22c9ed1",
   "metadata": {},
   "outputs": [
    {
     "data": {
      "text/plain": [
       "5"
      ]
     },
     "execution_count": 53,
     "metadata": {},
     "output_type": "execute_result"
    }
   ],
   "source": [
    "t1.index(5) # INdex of that Elment "
   ]
  },
  {
   "cell_type": "code",
   "execution_count": 54,
   "id": "d2c04cf8-2587-43a7-b801-38bb7436e904",
   "metadata": {},
   "outputs": [
    {
     "data": {
      "text/plain": [
       "2"
      ]
     },
     "execution_count": 54,
     "metadata": {},
     "output_type": "execute_result"
    }
   ],
   "source": [
    "t1.index(1) # INdex of that Elment "
   ]
  },
  {
   "cell_type": "markdown",
   "id": "58e6637b-f75f-49cc-833c-2a749b83b0bd",
   "metadata": {},
   "source": [
    "# Sorting"
   ]
  },
  {
   "cell_type": "code",
   "execution_count": 55,
   "id": "79d867ee-03f5-4f3d-acc6-1bc34254be50",
   "metadata": {},
   "outputs": [
    {
     "data": {
      "text/plain": [
       "[1, 2, 3, 3, 4, 5, 6, 7]"
      ]
     },
     "execution_count": 55,
     "metadata": {},
     "output_type": "execute_result"
    }
   ],
   "source": [
    "sorted(t1)"
   ]
  },
  {
   "cell_type": "code",
   "execution_count": 57,
   "id": "1591f029-cb4d-40e3-9990-1ac5417a6cd0",
   "metadata": {},
   "outputs": [
    {
     "data": {
      "text/plain": [
       "[7, 6, 5, 4, 3, 3, 2, 1]"
      ]
     },
     "execution_count": 57,
     "metadata": {},
     "output_type": "execute_result"
    }
   ],
   "source": [
    "sorted(t1,reverse = True) # Sort in Descending Order"
   ]
  },
  {
   "cell_type": "markdown",
   "id": "fa66ec80-24e1-45ef-83f9-8590b3bfbf51",
   "metadata": {},
   "source": [
    "# Tuple Slicing"
   ]
  },
  {
   "cell_type": "code",
   "execution_count": 29,
   "id": "45f7f4e0-e1e3-4b91-b69d-0360b40a3605",
   "metadata": {},
   "outputs": [
    {
     "data": {
      "text/plain": [
       "(1, 2, 3, 1, 3, 4, [1, 1, 1, 2, 2, 3, 3], 5, 6, 7)"
      ]
     },
     "execution_count": 29,
     "metadata": {},
     "output_type": "execute_result"
    }
   ],
   "source": [
    "t1"
   ]
  },
  {
   "cell_type": "code",
   "execution_count": 26,
   "id": "29eff2d2-5645-4d45-a15e-dae25bdccae6",
   "metadata": {},
   "outputs": [
    {
     "data": {
      "text/plain": [
       "(1, 2, 3)"
      ]
     },
     "execution_count": 26,
     "metadata": {},
     "output_type": "execute_result"
    }
   ],
   "source": [
    "t1[0:3] # Return all element from 0th to 3rd Index"
   ]
  },
  {
   "cell_type": "code",
   "execution_count": 28,
   "id": "0f89aa1b-074e-45dc-9223-559e1f40e55e",
   "metadata": {},
   "outputs": [
    {
     "data": {
      "text/plain": [
       "(1, 2, 3, 1)"
      ]
     },
     "execution_count": 28,
     "metadata": {},
     "output_type": "execute_result"
    }
   ],
   "source": [
    "t1[:4] # Return frist 4 elements"
   ]
  },
  {
   "cell_type": "code",
   "execution_count": 30,
   "id": "a87a115f-a60c-4e31-b45b-25da8aac7849",
   "metadata": {},
   "outputs": [
    {
     "data": {
      "text/plain": [
       "(6, 7)"
      ]
     },
     "execution_count": 30,
     "metadata": {},
     "output_type": "execute_result"
    }
   ],
   "source": [
    "t1[-2:]"
   ]
  },
  {
   "cell_type": "code",
   "execution_count": 32,
   "id": "e0889178-1bdd-42f6-9e51-8e55dcd25fdf",
   "metadata": {},
   "outputs": [
    {
     "data": {
      "text/plain": [
       "(3, 4, [1, 1, 1, 2, 2, 3, 3], 5)"
      ]
     },
     "execution_count": 32,
     "metadata": {},
     "output_type": "execute_result"
    }
   ],
   "source": [
    "t1[-6:-2]"
   ]
  },
  {
   "cell_type": "code",
   "execution_count": 33,
   "id": "6d062007-050b-413f-8b95-391ef5c566c1",
   "metadata": {},
   "outputs": [
    {
     "data": {
      "text/plain": [
       "(1, 2, 3, 1, 3, 4, [1, 1, 1, 2, 2, 3, 3], 5, 6, 7)"
      ]
     },
     "execution_count": 33,
     "metadata": {},
     "output_type": "execute_result"
    }
   ],
   "source": [
    "t1[:] # Return whole Tuple"
   ]
  },
  {
   "cell_type": "markdown",
   "id": "72ffa7fb-6302-4833-8f00-70ed6e19fbf3",
   "metadata": {},
   "source": [
    "# Remove / Changes"
   ]
  },
  {
   "cell_type": "code",
   "execution_count": 34,
   "id": "79a06c9c-5b44-44dc-b0cc-de7e6cebbdf9",
   "metadata": {},
   "outputs": [
    {
     "data": {
      "text/plain": [
       "(1, 2, 3, 1, 3, 4, [1, 1, 1, 2, 2, 3, 3], 5, 6, 7)"
      ]
     },
     "execution_count": 34,
     "metadata": {},
     "output_type": "execute_result"
    }
   ],
   "source": [
    "t1"
   ]
  },
  {
   "cell_type": "code",
   "execution_count": 36,
   "id": "e5d55b28-25fc-4ff5-8a48-0a59a964c193",
   "metadata": {},
   "outputs": [
    {
     "ename": "TypeError",
     "evalue": "'tuple' object does not support item assignment",
     "output_type": "error",
     "traceback": [
      "\u001b[31m---------------------------------------------------------------------------\u001b[39m",
      "\u001b[31mTypeError\u001b[39m                                 Traceback (most recent call last)",
      "\u001b[36mCell\u001b[39m\u001b[36m \u001b[39m\u001b[32mIn[36]\u001b[39m\u001b[32m, line 1\u001b[39m\n\u001b[32m----> \u001b[39m\u001b[32m1\u001b[39m \u001b[43mt1\u001b[49m\u001b[43m[\u001b[49m\u001b[32;43m0\u001b[39;49m\u001b[43m]\u001b[49m = \u001b[32m43\u001b[39m\n\u001b[32m      2\u001b[39m t1\n",
      "\u001b[31mTypeError\u001b[39m: 'tuple' object does not support item assignment"
     ]
    }
   ],
   "source": [
    "t1[0] = 43 # Tuples are immutable, which means we can't change Items"
   ]
  },
  {
   "cell_type": "code",
   "execution_count": 37,
   "id": "e7a188d0-290b-48fb-8159-0b0fa5e33eac",
   "metadata": {},
   "outputs": [],
   "source": [
    "del t1 # Deleting Entirle Tuple is Possible"
   ]
  },
  {
   "cell_type": "code",
   "execution_count": 38,
   "id": "916867e8-7d79-485f-b6a0-cac242ea97a7",
   "metadata": {},
   "outputs": [
    {
     "ename": "NameError",
     "evalue": "name 't1' is not defined",
     "output_type": "error",
     "traceback": [
      "\u001b[31m---------------------------------------------------------------------------\u001b[39m",
      "\u001b[31mNameError\u001b[39m                                 Traceback (most recent call last)",
      "\u001b[36mCell\u001b[39m\u001b[36m \u001b[39m\u001b[32mIn[38]\u001b[39m\u001b[32m, line 1\u001b[39m\n\u001b[32m----> \u001b[39m\u001b[32m1\u001b[39m \u001b[43mt1\u001b[49m\n",
      "\u001b[31mNameError\u001b[39m: name 't1' is not defined"
     ]
    }
   ],
   "source": [
    "t1"
   ]
  },
  {
   "cell_type": "markdown",
   "id": "4daf1e47-3d7b-49aa-b357-fd340fa6df3c",
   "metadata": {},
   "source": [
    "# Tuple Membership"
   ]
  },
  {
   "cell_type": "code",
   "execution_count": 58,
   "id": "d3754f18-51b7-4791-ab39-d549371a7c56",
   "metadata": {},
   "outputs": [],
   "source": [
    "mytuple = ('one', 'two', 'three', 'four', 'five', 'six', 'seven', 'eight')"
   ]
  },
  {
   "cell_type": "code",
   "execution_count": 59,
   "id": "5dca25ff-385d-4372-bb86-0d7708f6316a",
   "metadata": {},
   "outputs": [
    {
     "data": {
      "text/plain": [
       "True"
      ]
     },
     "execution_count": 59,
     "metadata": {},
     "output_type": "execute_result"
    }
   ],
   "source": [
    "'one' in mytuple # Check if 'one' exist in the list"
   ]
  },
  {
   "cell_type": "code",
   "execution_count": 60,
   "id": "bff0b70b-8d46-462a-9cad-b3454eecca50",
   "metadata": {},
   "outputs": [
    {
     "data": {
      "text/plain": [
       "False"
      ]
     },
     "execution_count": 60,
     "metadata": {},
     "output_type": "execute_result"
    }
   ],
   "source": [
    "'ten' in mytuple # Check if 'ten' exist in the list"
   ]
  },
  {
   "cell_type": "code",
   "execution_count": 61,
   "id": "445c8769-4864-4473-a24c-1bad2967ce64",
   "metadata": {},
   "outputs": [
    {
     "name": "stdout",
     "output_type": "stream",
     "text": [
      "Three is present in the tuple\n"
     ]
    }
   ],
   "source": [
    "if 'three' in mytuple: # Check if 'three' exist in the list\n",
    "    print('Three is present in the tuple')\n",
    "else:\n",
    "    print('Three is not present in the tuple')"
   ]
  },
  {
   "cell_type": "code",
   "execution_count": 62,
   "id": "d524db34-f581-4857-b821-e9c0df3714f3",
   "metadata": {},
   "outputs": [
    {
     "name": "stdout",
     "output_type": "stream",
     "text": [
      "eleven is not present in the tuple\n"
     ]
    }
   ],
   "source": [
    "if 'eleven' in mytuple: # Check if 'eleven' exist in the list\n",
    "    print('eleven is present in the tuple')\n",
    "else:\n",
    "    print('eleven is not present in the tuple')"
   ]
  },
  {
   "cell_type": "code",
   "execution_count": null,
   "id": "85e2954a-673c-4efa-a8f7-183d25915d2c",
   "metadata": {},
   "outputs": [],
   "source": []
  }
 ],
 "metadata": {
  "kernelspec": {
   "display_name": "Python 3 (ipykernel)",
   "language": "python",
   "name": "python3"
  },
  "language_info": {
   "codemirror_mode": {
    "name": "ipython",
    "version": 3
   },
   "file_extension": ".py",
   "mimetype": "text/x-python",
   "name": "python",
   "nbconvert_exporter": "python",
   "pygments_lexer": "ipython3",
   "version": "3.13.5"
  }
 },
 "nbformat": 4,
 "nbformat_minor": 5
}
