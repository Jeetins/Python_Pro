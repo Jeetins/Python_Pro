{
 "cells": [
  {
   "cell_type": "code",
   "execution_count": 22,
   "id": "76f7abeb-45b5-4c43-8d8e-b8d7c6b6f959",
   "metadata": {},
   "outputs": [
    {
     "name": "stdout",
     "output_type": "stream",
     "text": [
      "Naresh\n",
      "IT\n"
     ]
    }
   ],
   "source": [
    "name=\"\"\"Naresh\n",
    "IT\"\"\"\n",
    "print(name)"
   ]
  },
  {
   "cell_type": "code",
   "execution_count": 4,
   "id": "87002fca-7b0f-4106-9276-c579431a9fdc",
   "metadata": {},
   "outputs": [
    {
     "name": "stdin",
     "output_type": "stream",
     "text": [
      "enter your Name Jeetin\n"
     ]
    },
    {
     "name": "stdout",
     "output_type": "stream",
     "text": [
      "Hi! Jeetin How are Your??\n"
     ]
    }
   ],
   "source": [
    "a=input(\"enter your Name\")\n",
    "print(\"Hi!\",a,\"How are Your??\")"
   ]
  },
  {
   "cell_type": "code",
   "execution_count": 33,
   "id": "71949d4f-6f12-483b-8cf6-c4f590c1e999",
   "metadata": {},
   "outputs": [],
   "source": [
    "#Integer\n",
    "a=23"
   ]
  },
  {
   "cell_type": "code",
   "execution_count": 30,
   "id": "c939b75b-ac2e-449f-8235-ee7c21b9b092",
   "metadata": {},
   "outputs": [
    {
     "data": {
      "text/plain": [
       "int"
      ]
     },
     "execution_count": 30,
     "metadata": {},
     "output_type": "execute_result"
    }
   ],
   "source": [
    "type(a)"
   ]
  },
  {
   "cell_type": "code",
   "execution_count": 34,
   "id": "1eb71d91-9057-404e-ada0-68e766fd9b28",
   "metadata": {},
   "outputs": [
    {
     "data": {
      "text/plain": [
       "23.0"
      ]
     },
     "execution_count": 34,
     "metadata": {},
     "output_type": "execute_result"
    }
   ],
   "source": [
    "#int-float\n",
    "float(a)"
   ]
  },
  {
   "cell_type": "code",
   "execution_count": 32,
   "id": "56c6c869-d274-45b4-8f20-866d3482d1d3",
   "metadata": {},
   "outputs": [
    {
     "data": {
      "text/plain": [
       "True"
      ]
     },
     "execution_count": 32,
     "metadata": {},
     "output_type": "execute_result"
    }
   ],
   "source": [
    "#int-bool\n",
    "bool(a)"
   ]
  },
  {
   "cell_type": "code",
   "execution_count": 36,
   "id": "5a03a101-cd8b-4c7b-9c8a-f31af960cb04",
   "metadata": {},
   "outputs": [
    {
     "data": {
      "text/plain": [
       "'23'"
      ]
     },
     "execution_count": 36,
     "metadata": {},
     "output_type": "execute_result"
    }
   ],
   "source": [
    "#int-str\n",
    "str(a)"
   ]
  },
  {
   "cell_type": "code",
   "execution_count": 37,
   "id": "5b56adf1-96d4-4893-8721-63d673bcf23d",
   "metadata": {},
   "outputs": [],
   "source": [
    "b=1000000\n",
    "c=str(b)"
   ]
  },
  {
   "cell_type": "code",
   "execution_count": 38,
   "id": "6ec96d48-0f3c-4284-806b-af60e821331e",
   "metadata": {},
   "outputs": [
    {
     "data": {
      "text/plain": [
       "7"
      ]
     },
     "execution_count": 38,
     "metadata": {},
     "output_type": "execute_result"
    }
   ],
   "source": [
    "len(c)"
   ]
  },
  {
   "cell_type": "code",
   "execution_count": 39,
   "id": "2b6d3faf-6082-4cae-98e0-0379e36eb0cb",
   "metadata": {},
   "outputs": [],
   "source": [
    "#float-int\n",
    "d=5.96"
   ]
  },
  {
   "cell_type": "code",
   "execution_count": 40,
   "id": "298503a1-24ca-4e24-95dd-fe87cdc06087",
   "metadata": {},
   "outputs": [
    {
     "data": {
      "text/plain": [
       "5"
      ]
     },
     "execution_count": 40,
     "metadata": {},
     "output_type": "execute_result"
    }
   ],
   "source": [
    "int(d)"
   ]
  },
  {
   "cell_type": "code",
   "execution_count": 19,
   "id": "98b9975a-32ad-4149-b610-00120244cba1",
   "metadata": {},
   "outputs": [],
   "source": [
    "#float-bool\n",
    "c=bool(d)"
   ]
  },
  {
   "cell_type": "code",
   "execution_count": 20,
   "id": "415b8f91-e96a-40fa-a61a-825d7cdc9ff4",
   "metadata": {},
   "outputs": [
    {
     "name": "stdout",
     "output_type": "stream",
     "text": [
      "True\n"
     ]
    }
   ],
   "source": [
    "print(c)"
   ]
  },
  {
   "cell_type": "code",
   "execution_count": 21,
   "id": "13f331c4-46e7-4186-8cb3-272596b900f5",
   "metadata": {},
   "outputs": [],
   "source": [
    "#float-str\n",
    "e=str(d)"
   ]
  },
  {
   "cell_type": "code",
   "execution_count": 22,
   "id": "ea9d5f15-ef8f-4e1c-8aa6-cd121d8ba196",
   "metadata": {},
   "outputs": [
    {
     "name": "stdout",
     "output_type": "stream",
     "text": [
      "5.96\n"
     ]
    }
   ],
   "source": [
    "print(e)"
   ]
  },
  {
   "cell_type": "code",
   "execution_count": 24,
   "id": "b3827397-dfca-4914-8f28-e927d5d8c892",
   "metadata": {},
   "outputs": [
    {
     "data": {
      "text/plain": [
       "str"
      ]
     },
     "execution_count": 24,
     "metadata": {},
     "output_type": "execute_result"
    }
   ],
   "source": [
    "type(e)"
   ]
  },
  {
   "cell_type": "code",
   "execution_count": 26,
   "id": "41cca0e2-6da8-4099-8ee1-97e69cdb7687",
   "metadata": {},
   "outputs": [
    {
     "data": {
      "text/plain": [
       "False"
      ]
     },
     "execution_count": 26,
     "metadata": {},
     "output_type": "execute_result"
    }
   ],
   "source": [
    "bool(int(0.09))"
   ]
  },
  {
   "cell_type": "code",
   "execution_count": 27,
   "id": "bc4c59bd-5934-4a5e-b81d-24b97b4a7fa2",
   "metadata": {},
   "outputs": [],
   "source": [
    "#Fucntional Program - Inner bracket which execute first "
   ]
  },
  {
   "cell_type": "code",
   "execution_count": 28,
   "id": "2e66607b-2a2e-4228-b4a2-936c27d42b71",
   "metadata": {},
   "outputs": [],
   "source": [
    "#bool-int"
   ]
  },
  {
   "cell_type": "code",
   "execution_count": 29,
   "id": "90705775-a187-4d5d-978f-2b5e53d91fbd",
   "metadata": {},
   "outputs": [
    {
     "data": {
      "text/plain": [
       "1"
      ]
     },
     "execution_count": 29,
     "metadata": {},
     "output_type": "execute_result"
    }
   ],
   "source": [
    "int(True)"
   ]
  },
  {
   "cell_type": "code",
   "execution_count": 30,
   "id": "6b7250be-2e1f-4c17-b142-145b64b465a6",
   "metadata": {},
   "outputs": [
    {
     "data": {
      "text/plain": [
       "0"
      ]
     },
     "execution_count": 30,
     "metadata": {},
     "output_type": "execute_result"
    }
   ],
   "source": [
    "int(False)"
   ]
  },
  {
   "cell_type": "code",
   "execution_count": 31,
   "id": "340b948d-815e-4bbf-9c50-a30cae20cca4",
   "metadata": {},
   "outputs": [],
   "source": [
    "#bool-float"
   ]
  },
  {
   "cell_type": "code",
   "execution_count": 32,
   "id": "99f1e718-83c5-4191-a2ac-dcef8be39690",
   "metadata": {},
   "outputs": [
    {
     "data": {
      "text/plain": [
       "0.0"
      ]
     },
     "execution_count": 32,
     "metadata": {},
     "output_type": "execute_result"
    }
   ],
   "source": [
    "float(False)"
   ]
  },
  {
   "cell_type": "code",
   "execution_count": 34,
   "id": "d1738228-fa63-44eb-8308-66cf1b2eea44",
   "metadata": {},
   "outputs": [
    {
     "data": {
      "text/plain": [
       "1.0"
      ]
     },
     "execution_count": 34,
     "metadata": {},
     "output_type": "execute_result"
    }
   ],
   "source": [
    "float(True)"
   ]
  },
  {
   "cell_type": "code",
   "execution_count": 35,
   "id": "65d451a7-0199-42dc-82f2-d640377ca909",
   "metadata": {},
   "outputs": [],
   "source": [
    "#bool-str"
   ]
  },
  {
   "cell_type": "code",
   "execution_count": 37,
   "id": "d94a03f4-d407-45bd-b974-a813e159002f",
   "metadata": {},
   "outputs": [
    {
     "data": {
      "text/plain": [
       "'True'"
      ]
     },
     "execution_count": 37,
     "metadata": {},
     "output_type": "execute_result"
    }
   ],
   "source": [
    "str(True)"
   ]
  },
  {
   "cell_type": "code",
   "execution_count": 38,
   "id": "bae322ce-78e5-4162-ac85-529a8279411f",
   "metadata": {},
   "outputs": [],
   "source": [
    "#str-int"
   ]
  },
  {
   "cell_type": "code",
   "execution_count": 40,
   "id": "46597c69-4197-491b-bc04-4553fccc61ba",
   "metadata": {},
   "outputs": [
    {
     "ename": "ValueError",
     "evalue": "invalid literal for int() with base 10: 'Method'",
     "output_type": "error",
     "traceback": [
      "\u001b[1;31m---------------------------------------------------------------------------\u001b[0m",
      "\u001b[1;31mValueError\u001b[0m                                Traceback (most recent call last)",
      "Cell \u001b[1;32mIn[40], line 1\u001b[0m\n\u001b[1;32m----> 1\u001b[0m \u001b[38;5;28mint\u001b[39m(\u001b[38;5;124m\"\u001b[39m\u001b[38;5;124mMethod\u001b[39m\u001b[38;5;124m\"\u001b[39m)\n",
      "\u001b[1;31mValueError\u001b[0m: invalid literal for int() with base 10: 'Method'"
     ]
    }
   ],
   "source": [
    "int(\"Method\")"
   ]
  },
  {
   "cell_type": "code",
   "execution_count": 43,
   "id": "e825e17c-0b8e-4563-8d77-c60b1ad9bf46",
   "metadata": {},
   "outputs": [],
   "source": [
    "#Can a string be converted to int?\n",
    "#if the string has a numeric value - Yes, if not that is not possible. "
   ]
  },
  {
   "cell_type": "code",
   "execution_count": 41,
   "id": "68da31ef-084c-4363-b790-118b36473396",
   "metadata": {},
   "outputs": [
    {
     "data": {
      "text/plain": [
       "23.0"
      ]
     },
     "execution_count": 41,
     "metadata": {},
     "output_type": "execute_result"
    }
   ],
   "source": [
    "#str-float\n",
    "float(\"23\")"
   ]
  },
  {
   "cell_type": "code",
   "execution_count": 42,
   "id": "42c8c7a8-4e15-4c16-ba0d-77c8db7713ea",
   "metadata": {},
   "outputs": [
    {
     "data": {
      "text/plain": [
       "True"
      ]
     },
     "execution_count": 42,
     "metadata": {},
     "output_type": "execute_result"
    }
   ],
   "source": [
    "#str-bool\n",
    "bool(\"Test\")"
   ]
  },
  {
   "cell_type": "code",
   "execution_count": 46,
   "id": "baa3a0f3-6757-49cd-8983-d71c0c522d8b",
   "metadata": {},
   "outputs": [],
   "source": [
    "#ANSIC Value can change the Alphabet to numberic"
   ]
  },
  {
   "cell_type": "code",
   "execution_count": 47,
   "id": "3f843b87-554c-49aa-8c61-39b0a1e25e84",
   "metadata": {},
   "outputs": [
    {
     "data": {
      "text/plain": [
       "1.0"
      ]
     },
     "execution_count": 47,
     "metadata": {},
     "output_type": "execute_result"
    }
   ],
   "source": [
    "float(str(int(bool(12))))"
   ]
  },
  {
   "cell_type": "code",
   "execution_count": 23,
   "id": "fa1caf0e-ec15-4ae7-856f-ee74fa203d6c",
   "metadata": {},
   "outputs": [],
   "source": [
    "Num = 12\n",
    "Name = Jeet\n",
    "print(f\"Age is :"
   ]
  },
  {
   "cell_type": "code",
   "execution_count": 28,
   "id": "da40e57a-2607-4a17-acc9-f0d5071d9a76",
   "metadata": {},
   "outputs": [
    {
     "data": {
      "text/plain": [
       "'Hello2'"
      ]
     },
     "execution_count": 28,
     "metadata": {},
     "output_type": "execute_result"
    }
   ],
   "source": [
    "\"Hello\"+\"2\""
   ]
  },
  {
   "cell_type": "code",
   "execution_count": 25,
   "id": "942a6e0b-cced-4bb6-b6a6-993e6576c5a5",
   "metadata": {},
   "outputs": [],
   "source": [
    "# if Space is required another form of concatenation can be used. "
   ]
  },
  {
   "cell_type": "code",
   "execution_count": 26,
   "id": "0624c3d1-f04b-4e0c-bfd3-8226a8775a79",
   "metadata": {},
   "outputs": [
    {
     "data": {
      "text/plain": [
       "'Hello World'"
      ]
     },
     "execution_count": 26,
     "metadata": {},
     "output_type": "execute_result"
    }
   ],
   "source": [
    "\"Hello\"+\" \"+\"World\""
   ]
  },
  {
   "cell_type": "code",
   "execution_count": null,
   "id": "ef908659-7609-4f99-8e30-94ee5304fe2c",
   "metadata": {},
   "outputs": [],
   "source": []
  }
 ],
 "metadata": {
  "kernelspec": {
   "display_name": "Python 3 (ipykernel)",
   "language": "python",
   "name": "python3"
  },
  "language_info": {
   "codemirror_mode": {
    "name": "ipython",
    "version": 3
   },
   "file_extension": ".py",
   "mimetype": "text/x-python",
   "name": "python",
   "nbconvert_exporter": "python",
   "pygments_lexer": "ipython3",
   "version": "3.13.5"
  }
 },
 "nbformat": 4,
 "nbformat_minor": 5
}
