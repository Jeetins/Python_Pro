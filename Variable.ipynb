{
 "cells": [
  {
   "cell_type": "markdown",
   "id": "966c61f3-7b6e-4e50-8b9b-345d586c74a8",
   "metadata": {},
   "source": [
    "# Example 1 -- Integer Variable"
   ]
  },
  {
   "cell_type": "code",
   "execution_count": 1,
   "id": "350a18cb-8be7-4694-8c1e-b42bd8425dcd",
   "metadata": {},
   "outputs": [
    {
     "name": "stdout",
     "output_type": "stream",
     "text": [
      "25\n"
     ]
    }
   ],
   "source": [
    "age = 25 # Here Age is Variable, and it Stores an Integer Value 25\n",
    "print(age)"
   ]
  },
  {
   "cell_type": "markdown",
   "id": "b386748b-8537-4e68-a9f6-b2ef4e119951",
   "metadata": {},
   "source": [
    "# Example 2 -- String Variable"
   ]
  },
  {
   "cell_type": "code",
   "execution_count": 5,
   "id": "2cd863fb-8533-4b5f-9d11-61b61ef95e73",
   "metadata": {},
   "outputs": [
    {
     "name": "stdout",
     "output_type": "stream",
     "text": [
      "Jeetin\n"
     ]
    }
   ],
   "source": [
    "Name = 'Jeetin'\n",
    "print(Name)"
   ]
  },
  {
   "cell_type": "markdown",
   "id": "58c6e0ad-5e15-413f-87b8-dc88b446db0e",
   "metadata": {},
   "source": [
    "# Example 3 -- float Variable"
   ]
  },
  {
   "cell_type": "code",
   "execution_count": 6,
   "id": "27a4a4f0-f264-45bc-bb05-c165c5ac5e5a",
   "metadata": {},
   "outputs": [
    {
     "name": "stdout",
     "output_type": "stream",
     "text": [
      "10.99\n"
     ]
    }
   ],
   "source": [
    "Price = 10.99\n",
    "print(Price)"
   ]
  },
  {
   "cell_type": "markdown",
   "id": "173f1d73-904b-48fb-ac90-994533294ff2",
   "metadata": {},
   "source": [
    "# Example 3 -- Boolean Variable"
   ]
  },
  {
   "cell_type": "code",
   "execution_count": 8,
   "id": "18b134b4-dfb5-421c-ba2f-fb2f629ecdfe",
   "metadata": {},
   "outputs": [
    {
     "name": "stdout",
     "output_type": "stream",
     "text": [
      "True\n"
     ]
    }
   ],
   "source": [
    "Is_Active = True\n",
    "print(Is_Active)"
   ]
  },
  {
   "cell_type": "markdown",
   "id": "232f7d01-d4cf-4e85-bde1-226010a7a811",
   "metadata": {},
   "source": [
    "# Vairable as Expressions"
   ]
  },
  {
   "cell_type": "code",
   "execution_count": 11,
   "id": "beec6061-1607-4681-abef-41c66d2902a7",
   "metadata": {},
   "outputs": [
    {
     "name": "stdout",
     "output_type": "stream",
     "text": [
      "11\n"
     ]
    }
   ],
   "source": [
    "# Assign Values to Variable\n",
    "a=5\n",
    "b=6\n",
    "Result = a+b\n",
    "print(Result)"
   ]
  },
  {
   "cell_type": "markdown",
   "id": "6079d1a5-5633-41e1-9903-0e4677860363",
   "metadata": {},
   "source": [
    "# Variable Mutable"
   ]
  },
  {
   "cell_type": "code",
   "execution_count": 14,
   "id": "16666754-6fbd-4fbd-b001-6f1b7cfe6110",
   "metadata": {},
   "outputs": [
    {
     "name": "stdout",
     "output_type": "stream",
     "text": [
      "50\n"
     ]
    }
   ],
   "source": [
    "S = 50\n",
    "print(S)"
   ]
  },
  {
   "cell_type": "code",
   "execution_count": 15,
   "id": "aff2a480-e04c-4cad-8a1c-27464ddfd777",
   "metadata": {},
   "outputs": [
    {
     "name": "stdout",
     "output_type": "stream",
     "text": [
      "25\n"
     ]
    }
   ],
   "source": [
    "S=25\n",
    "print(S)"
   ]
  },
  {
   "cell_type": "code",
   "execution_count": 16,
   "id": "53b4f5ad-f8e6-421e-950b-b6f437a5a52a",
   "metadata": {},
   "outputs": [
    {
     "name": "stdout",
     "output_type": "stream",
     "text": [
      "25\n"
     ]
    }
   ],
   "source": [
    "print(S)"
   ]
  },
  {
   "cell_type": "markdown",
   "id": "3c9547d5-db11-4937-af78-27d2f0aa15b6",
   "metadata": {},
   "source": [
    "# Concatenating Sting"
   ]
  },
  {
   "cell_type": "code",
   "execution_count": 20,
   "id": "fdb584f6-21c1-4621-b833-4d3a6d1331ce",
   "metadata": {},
   "outputs": [
    {
     "name": "stdout",
     "output_type": "stream",
     "text": [
      "Jeetin B\n"
     ]
    }
   ],
   "source": [
    "Frist_Name= 'Jeetin'\n",
    "Last_Name = 'B'\n",
    "Full_Name = Frist_Name+ \" \" + Last_Name\n",
    "print(Full_Name)"
   ]
  },
  {
   "cell_type": "code",
   "execution_count": 21,
   "id": "75bf4b23-d328-4b6f-a5eb-14b371607056",
   "metadata": {},
   "outputs": [
    {
     "data": {
      "text/plain": [
       "str"
      ]
     },
     "execution_count": 21,
     "metadata": {},
     "output_type": "execute_result"
    }
   ],
   "source": [
    "type(Full_Name)"
   ]
  },
  {
   "cell_type": "markdown",
   "id": "e4a9c38c-095d-44ce-96ce-5a07df6a6308",
   "metadata": {},
   "source": [
    "# Variables can store any type of data\n",
    "- including numbers, strings, lists, dictionaries, objects, etc. Variables are dynamic, meaning their type is automatically determined by the value assigned to them, and they can change type during execution."
   ]
  },
  {
   "cell_type": "code",
   "execution_count": 1,
   "id": "c9c820e4-0323-4896-b386-86649458d6e6",
   "metadata": {},
   "outputs": [
    {
     "name": "stdout",
     "output_type": "stream",
     "text": [
      "Asabeneh Yetayeh Helsink 250 True\n",
      "First name: Asabeneh\n",
      "Last name:  Yetayeh\n",
      "Country:  Helsink\n",
      "Age:  250\n",
      "Married:  True\n"
     ]
    }
   ],
   "source": [
    "# Declaring multiple variables in one line\n",
    "\n",
    "first_name, last_name, country, age, is_married = 'Asabeneh', 'Yetayeh', 'Helsink', 250, True\n",
    "\n",
    "print(first_name, last_name, country, age, is_married)\n",
    "print('First name:', first_name)\n",
    "print('Last name: ', last_name)\n",
    "print('Country: ', country)\n",
    "print('Age: ', age)\n",
    "print('Married: ', is_married)"
   ]
  },
  {
   "cell_type": "code",
   "execution_count": null,
   "id": "3e82edfe-734d-44d2-a3aa-8f1e5d705cc6",
   "metadata": {},
   "outputs": [],
   "source": []
  }
 ],
 "metadata": {
  "kernelspec": {
   "display_name": "Python 3 (ipykernel)",
   "language": "python",
   "name": "python3"
  },
  "language_info": {
   "codemirror_mode": {
    "name": "ipython",
    "version": 3
   },
   "file_extension": ".py",
   "mimetype": "text/x-python",
   "name": "python",
   "nbconvert_exporter": "python",
   "pygments_lexer": "ipython3",
   "version": "3.13.5"
  }
 },
 "nbformat": 4,
 "nbformat_minor": 5
}
